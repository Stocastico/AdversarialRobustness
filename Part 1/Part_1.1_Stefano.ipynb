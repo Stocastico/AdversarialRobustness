{
 "cells": [
  {
   "cell_type": "code",
   "execution_count": null,
   "id": "3f000754",
   "metadata": {},
   "outputs": [],
   "source": [
    "# Usual ML imports\n",
    "import numpy as np\n",
    "import pandas as pd\n",
    "from matplotlib import pyplot as plt\n",
    "plt.rcParams[\"figure.figsize\"] = (18, 10)\n",
    "\n",
    "# Keras stuff\n",
    "from tensorflow.keras.preprocessing.image import img_to_array\n",
    "from tensorflow.keras.utils import to_categorical\n",
    "\n",
    "# OpenCV\n",
    "import cv2\n",
    "\n",
    "# Other modules\n",
    "from pathlib import Path\n",
    "from glob import glob"
   ]
  },
  {
   "cell_type": "markdown",
   "id": "3e222285",
   "metadata": {},
   "source": [
    "The dataset is included in the `data` folder. `tsrd-train` contains the images, while `TsignRecgTrain4170Annotation.txt` the annotations"
   ]
  },
  {
   "cell_type": "code",
   "execution_count": null,
   "id": "608a8c68",
   "metadata": {},
   "outputs": [],
   "source": [
    "DATA_FOLDER = Path('../data')\n",
    "IMG_FOLDER = Path(DATA_FOLDER / 'tsrd-train')\n",
    "ANNOTATIONS = Path(DATA_FOLDER / 'TsignRecgTrain4170Annotation.txt')\n",
    "COL_NAMES = ['filename','width','height','x1','y1','x2','y2','label']"
   ]
  },
  {
   "cell_type": "code",
   "execution_count": null,
   "id": "5d5c1a3b",
   "metadata": {},
   "outputs": [],
   "source": [
    "df = pd.read_csv(ANNOTATIONS, names=COL_NAMES, sep=';', header=None, index_col=False)\n",
    "df.head()"
   ]
  },
  {
   "cell_type": "markdown",
   "id": "26960157",
   "metadata": {},
   "source": [
    "Now let's just load some images with OpenCV, and draw on top of it the bounding box as described in the csv file"
   ]
  },
  {
   "cell_type": "code",
   "execution_count": null,
   "id": "eca85bef",
   "metadata": {},
   "outputs": [],
   "source": [
    "COLOR = (128, 64, 0)\n",
    "COLOR_LABEL = (255, 255, 255)\n",
    "THICKNESS = 2\n",
    "index = 1\n",
    "\n",
    "for _, row in df.sample(frac=1)[:5].iterrows():\n",
    "    \n",
    "    img_bgr = cv2.imread(str(Path(IMG_FOLDER / row.filename)))\n",
    "    img = cv2.cvtColor(img_bgr, cv2.COLOR_BGR2RGB)\n",
    "    cv2.rectangle(img, (row.x1, row.y1), (row.x2, row.y2), COLOR, THICKNESS)\n",
    "    cv2.putText(img, str(row.label), (row.x1, row.y1 - 12), 0, 3*1e-3 * row.height, COLOR_LABEL, THICKNESS//2)\n",
    "    plt.subplot(1, 5, index)\n",
    "    index += 1\n",
    "    plt.imshow(img)"
   ]
  },
  {
   "cell_type": "markdown",
   "id": "6bae34c0",
   "metadata": {},
   "source": [
    "Ok, we are now ready to create our dataset and save it on file. We will create the dataset containing the images (normalized between 0 and 1), store the labels and save it using numpy"
   ]
  },
  {
   "cell_type": "code",
   "execution_count": null,
   "id": "be3c2b0c",
   "metadata": {},
   "outputs": [],
   "source": [
    "images = glob(str(IMG_FOLDER) + '/*.png')\n",
    "IMG_SIZE = (134,128)\n",
    "\n",
    "dataset = []\n",
    "labels = []\n",
    "\n",
    "\n",
    "\n",
    "for idx in range(len(images)):\n",
    "    full_img_path = images[idx]\n",
    "    filename = Path(full_img_path).name\n",
    "    image = cv2.imread(full_img_path)\n",
    "    image = cv2.resize(image, IMG_SIZE)\n",
    "    image = img_to_array(image)\n",
    "    dataset.append(image)\n",
    "    # get label specific to this image\n",
    "    row = df[df['filename'] == filename]\n",
    "    label = row['label']\n",
    "    if row.empty:\n",
    "        print(filename)\n",
    "    else:\n",
    "        labels.append(label)"
   ]
  },
  {
   "cell_type": "code",
   "execution_count": null,
   "id": "9c160fe3",
   "metadata": {},
   "outputs": [],
   "source": [
    "dataset = np.array(dataset) / 255.0\n",
    "labels = to_categorical(labels)\n",
    "\n",
    "np.savez('chinese_traffic_sign_dataset.npz', data=dataset, label=labels)"
   ]
  }
 ],
 "metadata": {
  "kernelspec": {
   "display_name": "adv",
   "language": "python",
   "name": "adv"
  },
  "language_info": {
   "codemirror_mode": {
    "name": "ipython",
    "version": 3
   },
   "file_extension": ".py",
   "mimetype": "text/x-python",
   "name": "python",
   "nbconvert_exporter": "python",
   "pygments_lexer": "ipython3",
   "version": "3.9.7"
  },
  "toc": {
   "base_numbering": 1,
   "nav_menu": {},
   "number_sections": true,
   "sideBar": true,
   "skip_h1_title": false,
   "title_cell": "Table of Contents",
   "title_sidebar": "Contents",
   "toc_cell": false,
   "toc_position": {},
   "toc_section_display": true,
   "toc_window_display": false
  }
 },
 "nbformat": 4,
 "nbformat_minor": 5
}
