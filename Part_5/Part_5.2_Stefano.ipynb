{
 "cells": [
  {
   "cell_type": "code",
   "execution_count": 1,
   "id": "78cb953a",
   "metadata": {},
   "outputs": [],
   "source": [
    "# Usual imports\n",
    "import numpy as np\n",
    "import pandas as pd\n",
    "from sklearn.model_selection import train_test_split\n",
    "from matplotlib import pyplot as plt\n",
    "plt.rcParams[\"figure.figsize\"] = (18, 10)\n",
    "\n",
    "# OpenCV\n",
    "import cv2\n",
    "\n",
    "# Keras\n",
    "import keras\n",
    "import tensorflow as tf\n",
    "from tensorflow.keras.layers import *\n",
    "from tensorflow.keras.models import load_model, Sequential\n",
    "from tensorflow.keras.preprocessing.image import img_to_array\n",
    "from tensorflow.keras.utils import to_categorical\n",
    "from tensorflow.keras.callbacks import EarlyStopping\n",
    "\n",
    "# Cleverhans\n",
    "from cleverhans.tf2.attacks.fast_gradient_method import fast_gradient_method\n",
    "\n",
    "# Other modules\n",
    "from pathlib import Path\n",
    "from glob import glob\n",
    "from tqdm.notebook import tqdm\n",
    "from plot_keras_history import plot_history"
   ]
  },
  {
   "cell_type": "markdown",
   "id": "ae7ee007",
   "metadata": {},
   "source": [
    "Use the Distiller class as provided"
   ]
  },
  {
   "cell_type": "code",
   "execution_count": 2,
   "id": "49ad328c",
   "metadata": {},
   "outputs": [],
   "source": [
    "class Distiller(keras.Model):\n",
    "    def __init__(self, student, teacher):\n",
    "        super(Distiller, self).__init__()\n",
    "        self.teacher = teacher\n",
    "        self.student = student\n",
    "\n",
    "    def compile(\n",
    "        self,\n",
    "        optimizer,\n",
    "        metrics,\n",
    "        student_loss_fn,\n",
    "        distillation_loss_fn,\n",
    "        alpha=0.1,\n",
    "        temperature=3,\n",
    "    ):\n",
    "        super(Distiller, self).compile(optimizer=optimizer, metrics=metrics)\n",
    "        self.student_loss_fn = student_loss_fn\n",
    "        self.distillation_loss_fn = distillation_loss_fn\n",
    "        self.alpha = alpha\n",
    "        self.temperature = temperature\n",
    "\n",
    "    def train_step(self, data):\n",
    "        # Unpack data\n",
    "        x, y = data\n",
    "\n",
    "        # Forward pass of teacher\n",
    "        teacher_predictions = self.teacher(x, training=False)\n",
    "\n",
    "        with tf.GradientTape() as tape:\n",
    "            # Forward pass of student\n",
    "            student_predictions = self.student(x, training=True)\n",
    "\n",
    "            # Compute losses\n",
    "            student_loss = self.student_loss_fn(y, student_predictions)\n",
    "            distillation_loss = self.distillation_loss_fn(\n",
    "                tf.nn.softmax(teacher_predictions / self.temperature, axis=1),\n",
    "                tf.nn.softmax(student_predictions / self.temperature, axis=1),\n",
    "            )\n",
    "            loss = self.alpha * student_loss + (1 - self.alpha) * distillation_loss\n",
    "\n",
    "        # Compute gradients\n",
    "        trainable_vars = self.student.trainable_variables\n",
    "        gradients = tape.gradient(loss, trainable_vars)\n",
    "\n",
    "        # Update weights\n",
    "        self.optimizer.apply_gradients(zip(gradients, trainable_vars))\n",
    "\n",
    "        # Update the metrics configured in `compile()`.\n",
    "        self.compiled_metrics.update_state(y, student_predictions)\n",
    "\n",
    "        # Return a dict of performance\n",
    "        results = {m.name: m.result() for m in self.metrics}\n",
    "        results.update(\n",
    "            {\"student_loss\": student_loss, \"distillation_loss\": distillation_loss}\n",
    "        )\n",
    "        return results\n",
    "\n",
    "    def test_step(self, data):\n",
    "        # Unpack the data\n",
    "        x, y = data\n",
    "\n",
    "        # Compute predictions\n",
    "        y_prediction = self.student(x, training=False)\n",
    "\n",
    "        # Calculate the loss\n",
    "        student_loss = self.student_loss_fn(y, y_prediction)\n",
    "\n",
    "        # Update the metrics.\n",
    "        self.compiled_metrics.update_state(y, y_prediction)\n",
    "\n",
    "        # Return a dict of performance\n",
    "        results = {m.name: m.result() for m in self.metrics}\n",
    "        results.update({\"student_loss\": student_loss})\n",
    "        return results"
   ]
  },
  {
   "cell_type": "markdown",
   "id": "45fd70f0",
   "metadata": {},
   "source": [
    "We now load the data that will be used for our models"
   ]
  },
  {
   "cell_type": "code",
   "execution_count": 3,
   "id": "ebf32425",
   "metadata": {},
   "outputs": [],
   "source": [
    "DATA_FOLDER = Path('../data')\n",
    "IMG_FOLDER = Path(DATA_FOLDER / 'tsrd-train')\n",
    "ANNOTATIONS = Path(DATA_FOLDER / 'TsignRecgTrain4170Annotation.txt')\n",
    "COL_NAMES = ['filename','width','height','x1','y1','x2','y2','label']\n",
    "MODEL_FOLDER = Path('../Part_1')\n",
    "MODEL = Path(MODEL_FOLDER / 'chinese_traffic_sign_classifier_v1.h5')"
   ]
  },
  {
   "cell_type": "markdown",
   "id": "60ab99e8",
   "metadata": {},
   "source": [
    "Same as in 5.1, we load the data, and create a model, that will be our teacher."
   ]
  },
  {
   "cell_type": "code",
   "execution_count": 4,
   "id": "72fbc8d6",
   "metadata": {},
   "outputs": [
    {
     "name": "stdout",
     "output_type": "stream",
     "text": [
      "There are 158 images in the dataset\n"
     ]
    }
   ],
   "source": [
    "images = glob(str(IMG_FOLDER) + '/*.png')\n",
    "IMG_SIZE = (134,128)\n",
    "\n",
    "dataset = []\n",
    "labels = []\n",
    "\n",
    "df = pd.read_csv(ANNOTATIONS, names=COL_NAMES, sep=';', header=None, index_col=False)\n",
    "\n",
    "# Probably a better approach: filter all rows in the csv, then load only corresponding images...\n",
    "for idx in range(len(images)):\n",
    "    # get label specific to this image\n",
    "    full_img_path = images[idx]\n",
    "    filename = Path(full_img_path).name\n",
    "    row = df[df['filename'] == filename]\n",
    "    label = row['label'].values[0]\n",
    "    if label == 0 or label == 1:\n",
    "        \n",
    "        img_bgr = cv2.imread(full_img_path)\n",
    "        image = cv2.cvtColor(img_bgr, cv2.COLOR_BGR2RGB)\n",
    "        image = cv2.resize(image, IMG_SIZE)\n",
    "        image = img_to_array(image)\n",
    "        dataset.append(image)\n",
    "        labels.append(label)\n",
    "\n",
    "print(f'There are {len(dataset)} images in the dataset')\n",
    "\n",
    "dataset = np.array(dataset) / 255.0\n",
    "labels = to_categorical(labels)\n",
    "\n",
    "(train_X, valid_X, train_Y, valid_Y) = train_test_split(dataset, labels, test_size=0.2)"
   ]
  },
  {
   "cell_type": "code",
   "execution_count": 6,
   "id": "3f91897c",
   "metadata": {},
   "outputs": [],
   "source": [
    "def create_model(input_dims, num_classes):\n",
    "    model = Sequential()\n",
    "    \n",
    "    model.add(Conv2D(32, (5, 5), activation='relu', input_shape=input_dims))\n",
    "    model.add(MaxPooling2D(pool_size=(5, 5)))\n",
    "    model.add(Conv2D(32, (5, 5),activation='relu'))\n",
    "    model.add(MaxPooling2D(pool_size=(5, 5)))\n",
    "    model.add(Flatten())  \n",
    "    model.add(Dense(64, activation='relu',))\n",
    "    model.add(Dropout(0.2))\n",
    "    model.add(Dense(num_classes, activation='softmax'))\n",
    "     \n",
    "    model.compile(loss='categorical_crossentropy', optimizer='rmsprop', metrics=['accuracy'])\n",
    "    \n",
    "    return model\n",
    "\n",
    "teacher = create_model(train_X[0,:].shape, train_Y.shape[1])\n",
    "student = create_model(train_X[0,:].shape, train_Y.shape[1])"
   ]
  },
  {
   "cell_type": "markdown",
   "id": "cce7d328",
   "metadata": {},
   "source": [
    "We now train the teacher model the usual way"
   ]
  },
  {
   "cell_type": "code",
   "execution_count": 7,
   "id": "dcf074a2",
   "metadata": {},
   "outputs": [
    {
     "name": "stdout",
     "output_type": "stream",
     "text": [
      "Epoch 1/100\n",
      "1/1 [==============================] - 2s 2s/step - loss: 0.6947 - accuracy: 0.5159 - val_loss: 0.6779 - val_accuracy: 0.7500\n",
      "Epoch 2/100\n",
      "1/1 [==============================] - 1s 984ms/step - loss: 0.7310 - accuracy: 0.7460 - val_loss: 0.5817 - val_accuracy: 0.7500\n",
      "Epoch 3/100\n",
      "1/1 [==============================] - 1s 989ms/step - loss: 0.5785 - accuracy: 0.7460 - val_loss: 0.5363 - val_accuracy: 0.7500\n",
      "Epoch 4/100\n",
      "1/1 [==============================] - 1s 836ms/step - loss: 0.5459 - accuracy: 0.7460 - val_loss: 0.5259 - val_accuracy: 0.7500\n",
      "Epoch 5/100\n",
      "1/1 [==============================] - 1s 805ms/step - loss: 0.5350 - accuracy: 0.7460 - val_loss: 0.5178 - val_accuracy: 0.7500\n",
      "Epoch 6/100\n",
      "1/1 [==============================] - 1s 814ms/step - loss: 0.5338 - accuracy: 0.7460 - val_loss: 0.5070 - val_accuracy: 0.7500\n",
      "Epoch 7/100\n",
      "1/1 [==============================] - 1s 806ms/step - loss: 0.5107 - accuracy: 0.7460 - val_loss: 0.4982 - val_accuracy: 0.7500\n",
      "Epoch 8/100\n",
      "1/1 [==============================] - 1s 822ms/step - loss: 0.5052 - accuracy: 0.7460 - val_loss: 0.4885 - val_accuracy: 0.7500\n",
      "Epoch 9/100\n",
      "1/1 [==============================] - 1s 794ms/step - loss: 0.4876 - accuracy: 0.7460 - val_loss: 0.4806 - val_accuracy: 0.7500\n",
      "Epoch 10/100\n",
      "1/1 [==============================] - 1s 809ms/step - loss: 0.4880 - accuracy: 0.7460 - val_loss: 0.4729 - val_accuracy: 0.7500\n",
      "Epoch 11/100\n",
      "1/1 [==============================] - 1s 807ms/step - loss: 0.4919 - accuracy: 0.7460 - val_loss: 0.5233 - val_accuracy: 0.7500\n",
      "Epoch 12/100\n",
      "1/1 [==============================] - 1s 814ms/step - loss: 0.5180 - accuracy: 0.7619 - val_loss: 0.5139 - val_accuracy: 0.7500\n",
      "Epoch 13/100\n",
      "1/1 [==============================] - 1s 828ms/step - loss: 0.5604 - accuracy: 0.7460 - val_loss: 0.4727 - val_accuracy: 0.7500\n",
      "Epoch 14/100\n",
      "1/1 [==============================] - 1s 812ms/step - loss: 0.4955 - accuracy: 0.7540 - val_loss: 0.4351 - val_accuracy: 0.7500\n",
      "Epoch 15/100\n",
      "1/1 [==============================] - 1s 812ms/step - loss: 0.4434 - accuracy: 0.7460 - val_loss: 0.4144 - val_accuracy: 0.7500\n",
      "Epoch 16/100\n",
      "1/1 [==============================] - 1s 816ms/step - loss: 0.4182 - accuracy: 0.7460 - val_loss: 0.4030 - val_accuracy: 0.7500\n",
      "Epoch 17/100\n",
      "1/1 [==============================] - 1s 810ms/step - loss: 0.4133 - accuracy: 0.7460 - val_loss: 0.3945 - val_accuracy: 0.7812\n",
      "Epoch 18/100\n",
      "1/1 [==============================] - 1s 817ms/step - loss: 0.4131 - accuracy: 0.7937 - val_loss: 0.4349 - val_accuracy: 0.7500\n",
      "Epoch 19/100\n",
      "1/1 [==============================] - 1s 820ms/step - loss: 0.4513 - accuracy: 0.7460 - val_loss: 0.4714 - val_accuracy: 1.0000\n",
      "Epoch 20/100\n",
      "1/1 [==============================] - 1s 815ms/step - loss: 0.4942 - accuracy: 0.9603 - val_loss: 0.3789 - val_accuracy: 0.7500\n",
      "Epoch 21/100\n",
      "1/1 [==============================] - 1s 808ms/step - loss: 0.4018 - accuracy: 0.7460 - val_loss: 0.3361 - val_accuracy: 0.8125\n",
      "Epoch 22/100\n",
      "1/1 [==============================] - 1s 830ms/step - loss: 0.3502 - accuracy: 0.8333 - val_loss: 0.3120 - val_accuracy: 0.7812\n",
      "Epoch 23/100\n",
      "1/1 [==============================] - 1s 844ms/step - loss: 0.3271 - accuracy: 0.8175 - val_loss: 0.3009 - val_accuracy: 0.9375\n",
      "Epoch 24/100\n",
      "1/1 [==============================] - 1s 863ms/step - loss: 0.3178 - accuracy: 0.9127 - val_loss: 0.3012 - val_accuracy: 0.7500\n",
      "Epoch 25/100\n",
      "1/1 [==============================] - 1s 827ms/step - loss: 0.3140 - accuracy: 0.7937 - val_loss: 0.3030 - val_accuracy: 1.0000\n",
      "Epoch 26/100\n",
      "1/1 [==============================] - 1s 831ms/step - loss: 0.3197 - accuracy: 0.9921 - val_loss: 0.2821 - val_accuracy: 0.7812\n",
      "Epoch 27/100\n",
      "1/1 [==============================] - 1s 818ms/step - loss: 0.2885 - accuracy: 0.8016 - val_loss: 0.2481 - val_accuracy: 1.0000\n",
      "Epoch 28/100\n",
      "1/1 [==============================] - 1s 823ms/step - loss: 0.2581 - accuracy: 0.9921 - val_loss: 0.2310 - val_accuracy: 0.8125\n",
      "Epoch 29/100\n",
      "1/1 [==============================] - 1s 820ms/step - loss: 0.2486 - accuracy: 0.8333 - val_loss: 0.2164 - val_accuracy: 1.0000\n",
      "Epoch 30/100\n",
      "1/1 [==============================] - 1s 834ms/step - loss: 0.2383 - accuracy: 0.9921 - val_loss: 0.2050 - val_accuracy: 0.8438\n",
      "Epoch 31/100\n",
      "1/1 [==============================] - 1s 822ms/step - loss: 0.2247 - accuracy: 0.8730 - val_loss: 0.2025 - val_accuracy: 1.0000\n",
      "Epoch 32/100\n",
      "1/1 [==============================] - 1s 829ms/step - loss: 0.2186 - accuracy: 1.0000 - val_loss: 0.1775 - val_accuracy: 0.9062\n",
      "Epoch 33/100\n",
      "1/1 [==============================] - 1s 976ms/step - loss: 0.1879 - accuracy: 0.9048 - val_loss: 0.1511 - val_accuracy: 1.0000\n",
      "Epoch 34/100\n",
      "1/1 [==============================] - 1s 961ms/step - loss: 0.1714 - accuracy: 1.0000 - val_loss: 0.1318 - val_accuracy: 1.0000\n",
      "Epoch 35/100\n",
      "1/1 [==============================] - 1s 984ms/step - loss: 0.1440 - accuracy: 0.9683 - val_loss: 0.1140 - val_accuracy: 1.0000\n",
      "Epoch 36/100\n",
      "1/1 [==============================] - 1s 920ms/step - loss: 0.1356 - accuracy: 0.9921 - val_loss: 0.1096 - val_accuracy: 1.0000\n",
      "Epoch 37/100\n",
      "1/1 [==============================] - 1s 984ms/step - loss: 0.1289 - accuracy: 0.9762 - val_loss: 0.1108 - val_accuracy: 1.0000\n",
      "Epoch 38/100\n",
      "1/1 [==============================] - 1s 1s/step - loss: 0.1181 - accuracy: 1.0000 - val_loss: 0.1082 - val_accuracy: 1.0000\n",
      "Epoch 39/100\n",
      "1/1 [==============================] - 1s 943ms/step - loss: 0.1046 - accuracy: 0.9841 - val_loss: 0.0828 - val_accuracy: 1.0000\n",
      "Epoch 40/100\n",
      "1/1 [==============================] - 1s 1s/step - loss: 0.0929 - accuracy: 1.0000 - val_loss: 0.0904 - val_accuracy: 1.0000\n",
      "Epoch 41/100\n",
      "1/1 [==============================] - 1s 988ms/step - loss: 0.1064 - accuracy: 0.9762 - val_loss: 0.0864 - val_accuracy: 1.0000\n",
      "Epoch 42/100\n",
      "1/1 [==============================] - 1s 970ms/step - loss: 0.0905 - accuracy: 1.0000 - val_loss: 0.0650 - val_accuracy: 1.0000\n",
      "Epoch 43/100\n",
      "1/1 [==============================] - 1s 1s/step - loss: 0.0777 - accuracy: 0.9921 - val_loss: 0.0541 - val_accuracy: 1.0000\n",
      "Epoch 44/100\n",
      "1/1 [==============================] - 1s 960ms/step - loss: 0.0577 - accuracy: 1.0000 - val_loss: 0.0495 - val_accuracy: 1.0000\n",
      "Epoch 45/100\n",
      "1/1 [==============================] - 1s 1s/step - loss: 0.0541 - accuracy: 1.0000 - val_loss: 0.0414 - val_accuracy: 1.0000\n",
      "Epoch 46/100\n",
      "1/1 [==============================] - 1s 948ms/step - loss: 0.0482 - accuracy: 1.0000 - val_loss: 0.0386 - val_accuracy: 1.0000\n",
      "Epoch 47/100\n",
      "1/1 [==============================] - 1s 896ms/step - loss: 0.0394 - accuracy: 1.0000 - val_loss: 0.0334 - val_accuracy: 1.0000\n",
      "Epoch 48/100\n",
      "1/1 [==============================] - 1s 883ms/step - loss: 0.0358 - accuracy: 1.0000 - val_loss: 0.0314 - val_accuracy: 1.0000\n",
      "Epoch 49/100\n",
      "1/1 [==============================] - 1s 872ms/step - loss: 0.0322 - accuracy: 1.0000 - val_loss: 0.0260 - val_accuracy: 1.0000\n",
      "Epoch 50/100\n",
      "1/1 [==============================] - 1s 826ms/step - loss: 0.0287 - accuracy: 1.0000 - val_loss: 0.0244 - val_accuracy: 1.0000\n",
      "Epoch 51/100\n",
      "1/1 [==============================] - 1s 874ms/step - loss: 0.0303 - accuracy: 1.0000 - val_loss: 0.0273 - val_accuracy: 1.0000\n",
      "Epoch 52/100\n",
      "1/1 [==============================] - 1s 928ms/step - loss: 0.0329 - accuracy: 1.0000 - val_loss: 0.0274 - val_accuracy: 1.0000\n",
      "Epoch 53/100\n",
      "1/1 [==============================] - 1s 977ms/step - loss: 0.0353 - accuracy: 1.0000 - val_loss: 0.0333 - val_accuracy: 1.0000\n",
      "Epoch 54/100\n",
      "1/1 [==============================] - 1s 890ms/step - loss: 0.0349 - accuracy: 1.0000 - val_loss: 0.0253 - val_accuracy: 1.0000\n",
      "Epoch 55/100\n",
      "1/1 [==============================] - 1s 864ms/step - loss: 0.0407 - accuracy: 0.9921 - val_loss: 0.0263 - val_accuracy: 1.0000\n",
      "Epoch 56/100\n",
      "1/1 [==============================] - 1s 870ms/step - loss: 0.0304 - accuracy: 1.0000 - val_loss: 0.0173 - val_accuracy: 1.0000\n",
      "Epoch 57/100\n",
      "1/1 [==============================] - 1s 873ms/step - loss: 0.0164 - accuracy: 1.0000 - val_loss: 0.0131 - val_accuracy: 1.0000\n",
      "Epoch 58/100\n",
      "1/1 [==============================] - 1s 906ms/step - loss: 0.0127 - accuracy: 1.0000 - val_loss: 0.0118 - val_accuracy: 1.0000\n"
     ]
    },
    {
     "name": "stdout",
     "output_type": "stream",
     "text": [
      "Epoch 59/100\n",
      "1/1 [==============================] - 1s 928ms/step - loss: 0.0145 - accuracy: 1.0000 - val_loss: 0.0111 - val_accuracy: 1.0000\n",
      "Epoch 60/100\n",
      "1/1 [==============================] - 1s 917ms/step - loss: 0.0148 - accuracy: 1.0000 - val_loss: 0.0106 - val_accuracy: 1.0000\n",
      "Epoch 61/100\n",
      "1/1 [==============================] - 1s 863ms/step - loss: 0.0148 - accuracy: 1.0000 - val_loss: 0.0090 - val_accuracy: 1.0000\n",
      "Epoch 62/100\n",
      "1/1 [==============================] - 1s 1s/step - loss: 0.0101 - accuracy: 1.0000 - val_loss: 0.0079 - val_accuracy: 1.0000\n",
      "Epoch 63/100\n",
      "1/1 [==============================] - 1s 948ms/step - loss: 0.0119 - accuracy: 1.0000 - val_loss: 0.0096 - val_accuracy: 1.0000\n",
      "Epoch 64/100\n",
      "1/1 [==============================] - 1s 871ms/step - loss: 0.0089 - accuracy: 1.0000 - val_loss: 0.0075 - val_accuracy: 1.0000\n",
      "Epoch 65/100\n",
      "1/1 [==============================] - 1s 831ms/step - loss: 0.0081 - accuracy: 1.0000 - val_loss: 0.0066 - val_accuracy: 1.0000\n",
      "Epoch 66/100\n",
      "1/1 [==============================] - 1s 832ms/step - loss: 0.0075 - accuracy: 1.0000 - val_loss: 0.0077 - val_accuracy: 1.0000\n",
      "Epoch 67/100\n",
      "1/1 [==============================] - 1s 861ms/step - loss: 0.0097 - accuracy: 1.0000 - val_loss: 0.0060 - val_accuracy: 1.0000\n",
      "Epoch 68/100\n",
      "1/1 [==============================] - 1s 873ms/step - loss: 0.0093 - accuracy: 1.0000 - val_loss: 0.0062 - val_accuracy: 1.0000\n",
      "Epoch 69/100\n",
      "1/1 [==============================] - 1s 866ms/step - loss: 0.0069 - accuracy: 1.0000 - val_loss: 0.0048 - val_accuracy: 1.0000\n",
      "Epoch 70/100\n",
      "1/1 [==============================] - 1s 877ms/step - loss: 0.0058 - accuracy: 1.0000 - val_loss: 0.0043 - val_accuracy: 1.0000\n",
      "Epoch 71/100\n",
      "1/1 [==============================] - 1s 887ms/step - loss: 0.0068 - accuracy: 1.0000 - val_loss: 0.0054 - val_accuracy: 1.0000\n",
      "Epoch 72/100\n",
      "1/1 [==============================] - 1s 846ms/step - loss: 0.0051 - accuracy: 1.0000 - val_loss: 0.0037 - val_accuracy: 1.0000\n",
      "Epoch 73/100\n",
      "1/1 [==============================] - 1s 834ms/step - loss: 0.0046 - accuracy: 1.0000 - val_loss: 0.0033 - val_accuracy: 1.0000\n",
      "Epoch 74/100\n",
      "1/1 [==============================] - 1s 1s/step - loss: 0.0049 - accuracy: 1.0000 - val_loss: 0.0031 - val_accuracy: 1.0000\n",
      "Epoch 75/100\n",
      "1/1 [==============================] - 1s 836ms/step - loss: 0.0074 - accuracy: 1.0000 - val_loss: 0.0080 - val_accuracy: 1.0000\n",
      "Epoch 76/100\n",
      "1/1 [==============================] - 1s 979ms/step - loss: 0.0094 - accuracy: 1.0000 - val_loss: 0.0039 - val_accuracy: 1.0000\n",
      "Epoch 77/100\n",
      "1/1 [==============================] - 1s 931ms/step - loss: 0.0036 - accuracy: 1.0000 - val_loss: 0.0025 - val_accuracy: 1.0000\n",
      "Epoch 78/100\n",
      "1/1 [==============================] - 1s 891ms/step - loss: 0.0024 - accuracy: 1.0000 - val_loss: 0.0021 - val_accuracy: 1.0000\n",
      "Epoch 79/100\n",
      "1/1 [==============================] - 1s 856ms/step - loss: 0.0023 - accuracy: 1.0000 - val_loss: 0.0019 - val_accuracy: 1.0000\n",
      "Epoch 80/100\n",
      "1/1 [==============================] - 1s 962ms/step - loss: 0.0035 - accuracy: 1.0000 - val_loss: 0.0019 - val_accuracy: 1.0000\n",
      "Epoch 81/100\n",
      "1/1 [==============================] - 1s 850ms/step - loss: 0.0020 - accuracy: 1.0000 - val_loss: 0.0017 - val_accuracy: 1.0000\n",
      "Epoch 82/100\n",
      "1/1 [==============================] - 1s 853ms/step - loss: 0.0017 - accuracy: 1.0000 - val_loss: 0.0015 - val_accuracy: 1.0000\n",
      "Epoch 83/100\n",
      "1/1 [==============================] - 1s 1s/step - loss: 0.0059 - accuracy: 1.0000 - val_loss: 0.0021 - val_accuracy: 1.0000\n",
      "Epoch 84/100\n",
      "1/1 [==============================] - 1s 905ms/step - loss: 0.0023 - accuracy: 1.0000 - val_loss: 0.0015 - val_accuracy: 1.0000\n",
      "Epoch 85/100\n",
      "1/1 [==============================] - 1s 960ms/step - loss: 0.0016 - accuracy: 1.0000 - val_loss: 0.0012 - val_accuracy: 1.0000\n",
      "Epoch 86/100\n",
      "1/1 [==============================] - 1s 912ms/step - loss: 0.0016 - accuracy: 1.0000 - val_loss: 0.0011 - val_accuracy: 1.0000\n",
      "Epoch 87/100\n",
      "1/1 [==============================] - 1s 837ms/step - loss: 0.0015 - accuracy: 1.0000 - val_loss: 0.0010 - val_accuracy: 1.0000\n",
      "Epoch 88/100\n",
      "1/1 [==============================] - 1s 841ms/step - loss: 0.0011 - accuracy: 1.0000 - val_loss: 9.5435e-04 - val_accuracy: 1.0000\n",
      "Epoch 89/100\n",
      "1/1 [==============================] - 1s 853ms/step - loss: 0.0011 - accuracy: 1.0000 - val_loss: 8.1883e-04 - val_accuracy: 1.0000\n",
      "Epoch 90/100\n",
      "1/1 [==============================] - 1s 852ms/step - loss: 0.0024 - accuracy: 1.0000 - val_loss: 8.5723e-04 - val_accuracy: 1.0000\n",
      "Epoch 91/100\n",
      "1/1 [==============================] - 1s 840ms/step - loss: 0.0012 - accuracy: 1.0000 - val_loss: 6.3465e-04 - val_accuracy: 1.0000\n",
      "Epoch 92/100\n",
      "1/1 [==============================] - 1s 840ms/step - loss: 0.0010 - accuracy: 1.0000 - val_loss: 6.0261e-04 - val_accuracy: 1.0000\n",
      "Restoring model weights from the end of the best epoch.\n",
      "Epoch 00092: early stopping\n"
     ]
    }
   ],
   "source": [
    "IMAGE_SIZE = (134,128)\n",
    "BS = 128\n",
    "EPOCHS = 100\n",
    "\n",
    "es = EarlyStopping(monitor='val_loss', patience=8, min_delta=0.001, verbose=1,\n",
    "                   restore_best_weights=True, mode='min')\n",
    "\n",
    "history = teacher.fit(train_X, train_Y, batch_size=BS, epochs=EPOCHS, callbacks=[es],\n",
    "                      validation_data=(valid_X, valid_Y))"
   ]
  },
  {
   "cell_type": "markdown",
   "id": "e5f8238a",
   "metadata": {},
   "source": [
    "We plot the loss and accuracy curves, and evaluate the model"
   ]
  },
  {
   "cell_type": "code",
   "execution_count": 8,
   "id": "c5455a01",
   "metadata": {},
   "outputs": [
    {
     "data": {
      "image/png": "[encoded data removed]",
      "text/plain": [
       "<Figure size 720x360 with 2 Axes>"
      ]
     },
     "metadata": {
      "needs_background": "light"
     },
     "output_type": "display_data"
    },
    {
     "name": "stdout",
     "output_type": "stream",
     "text": [
      "1/1 [==============================] - 0s 192ms/step - loss: 0.0015 - accuracy: 1.0000\n"
     ]
    },
    {
     "data": {
      "text/plain": [
       "[0.0014654304832220078, 1.0]"
      ]
     },
     "execution_count": 8,
     "metadata": {},
     "output_type": "execute_result"
    }
   ],
   "source": [
    "plot_history(history.history)\n",
    "plt.show()\n",
    "teacher.evaluate(valid_X, valid_Y)"
   ]
  },
  {
   "cell_type": "markdown",
   "id": "32ca1b66",
   "metadata": {},
   "source": [
    "Ok, now we are ready to use the distiller class to train our student"
   ]
  },
  {
   "cell_type": "code",
   "execution_count": 9,
   "id": "a81b9170",
   "metadata": {},
   "outputs": [
    {
     "name": "stdout",
     "output_type": "stream",
     "text": [
      "Epoch 1/200\n",
      "1/1 [==============================] - 2s 2s/step - categorical_crossentropy: 0.5947 - student_loss: 0.5947 - distillation_loss: 0.0010 - val_categorical_crossentropy: 0.5294 - val_student_loss: 0.5294\n",
      "Epoch 2/200\n",
      "1/1 [==============================] - 1s 1s/step - categorical_crossentropy: 0.5512 - student_loss: 0.5512 - distillation_loss: 9.1509e-04 - val_categorical_crossentropy: 0.5298 - val_student_loss: 0.5298\n",
      "Epoch 3/200\n",
      "1/1 [==============================] - 1s 1s/step - categorical_crossentropy: 0.5638 - student_loss: 0.5638 - distillation_loss: 9.3227e-04 - val_categorical_crossentropy: 0.5107 - val_student_loss: 0.5107\n",
      "Epoch 4/200\n",
      "1/1 [==============================] - 1s 1s/step - categorical_crossentropy: 0.5292 - student_loss: 0.5292 - distillation_loss: 8.7441e-04 - val_categorical_crossentropy: 0.5020 - val_student_loss: 0.5020\n",
      "Epoch 5/200\n",
      "1/1 [==============================] - 1s 1s/step - categorical_crossentropy: 0.5305 - student_loss: 0.5305 - distillation_loss: 8.7192e-04 - val_categorical_crossentropy: 0.4937 - val_student_loss: 0.4937\n",
      "Epoch 6/200\n",
      "1/1 [==============================] - 1s 1s/step - categorical_crossentropy: 0.5196 - student_loss: 0.5196 - distillation_loss: 8.4609e-04 - val_categorical_crossentropy: 0.4821 - val_student_loss: 0.4821\n",
      "Epoch 7/200\n",
      "1/1 [==============================] - 1s 1s/step - categorical_crossentropy: 0.5006 - student_loss: 0.5006 - distillation_loss: 8.0800e-04 - val_categorical_crossentropy: 0.4689 - val_student_loss: 0.4689\n",
      "Epoch 8/200\n",
      "1/1 [==============================] - 1s 1s/step - categorical_crossentropy: 0.4818 - student_loss: 0.4818 - distillation_loss: 7.7744e-04 - val_categorical_crossentropy: 0.4582 - val_student_loss: 0.4582\n",
      "Epoch 9/200\n",
      "1/1 [==============================] - 1s 1s/step - categorical_crossentropy: 0.4797 - student_loss: 0.4797 - distillation_loss: 7.8135e-04 - val_categorical_crossentropy: 0.4463 - val_student_loss: 0.4463\n",
      "Epoch 10/200\n",
      "1/1 [==============================] - 1s 1s/step - categorical_crossentropy: 0.4576 - student_loss: 0.4576 - distillation_loss: 7.3971e-04 - val_categorical_crossentropy: 0.4329 - val_student_loss: 0.4329\n",
      "Epoch 11/200\n",
      "1/1 [==============================] - 1s 1s/step - categorical_crossentropy: 0.4509 - student_loss: 0.4509 - distillation_loss: 7.2654e-04 - val_categorical_crossentropy: 0.4161 - val_student_loss: 0.4161\n",
      "Epoch 12/200\n",
      "1/1 [==============================] - 1s 1s/step - categorical_crossentropy: 0.4254 - student_loss: 0.4254 - distillation_loss: 6.7455e-04 - val_categorical_crossentropy: 0.3990 - val_student_loss: 0.3990\n",
      "Epoch 13/200\n",
      "1/1 [==============================] - 1s 1s/step - categorical_crossentropy: 0.4117 - student_loss: 0.4117 - distillation_loss: 6.4581e-04 - val_categorical_crossentropy: 0.3847 - val_student_loss: 0.3847\n",
      "Epoch 14/200\n",
      "1/1 [==============================] - 1s 1s/step - categorical_crossentropy: 0.4091 - student_loss: 0.4091 - distillation_loss: 6.4321e-04 - val_categorical_crossentropy: 0.3668 - val_student_loss: 0.3668\n",
      "Epoch 15/200\n",
      "1/1 [==============================] - 1s 1s/step - categorical_crossentropy: 0.3699 - student_loss: 0.3699 - distillation_loss: 5.6381e-04 - val_categorical_crossentropy: 0.3465 - val_student_loss: 0.3465\n",
      "Epoch 16/200\n",
      "1/1 [==============================] - 1s 1s/step - categorical_crossentropy: 0.3723 - student_loss: 0.3723 - distillation_loss: 5.5969e-04 - val_categorical_crossentropy: 0.3262 - val_student_loss: 0.3262\n",
      "Epoch 17/200\n",
      "1/1 [==============================] - 1s 1s/step - categorical_crossentropy: 0.3414 - student_loss: 0.3414 - distillation_loss: 4.9886e-04 - val_categorical_crossentropy: 0.3064 - val_student_loss: 0.3064\n",
      "Epoch 18/200\n",
      "1/1 [==============================] - 1s 1s/step - categorical_crossentropy: 0.3280 - student_loss: 0.3280 - distillation_loss: 4.8044e-04 - val_categorical_crossentropy: 0.2849 - val_student_loss: 0.2849\n",
      "Epoch 19/200\n",
      "1/1 [==============================] - 1s 1s/step - categorical_crossentropy: 0.3034 - student_loss: 0.3034 - distillation_loss: 4.4481e-04 - val_categorical_crossentropy: 0.2591 - val_student_loss: 0.2591\n",
      "Epoch 20/200\n",
      "1/1 [==============================] - 1s 1s/step - categorical_crossentropy: 0.2927 - student_loss: 0.2927 - distillation_loss: 4.0204e-04 - val_categorical_crossentropy: 0.2363 - val_student_loss: 0.2363\n",
      "Epoch 21/200\n",
      "1/1 [==============================] - 1s 1s/step - categorical_crossentropy: 0.2673 - student_loss: 0.2673 - distillation_loss: 3.7116e-04 - val_categorical_crossentropy: 0.2160 - val_student_loss: 0.2160\n",
      "Epoch 22/200\n",
      "1/1 [==============================] - 1s 1s/step - categorical_crossentropy: 0.2523 - student_loss: 0.2523 - distillation_loss: 3.5596e-04 - val_categorical_crossentropy: 0.1908 - val_student_loss: 0.1908\n",
      "Epoch 23/200\n",
      "1/1 [==============================] - 1s 1s/step - categorical_crossentropy: 0.2286 - student_loss: 0.2286 - distillation_loss: 2.9417e-04 - val_categorical_crossentropy: 0.1803 - val_student_loss: 0.1803\n",
      "Epoch 24/200\n",
      "1/1 [==============================] - 1s 1s/step - categorical_crossentropy: 0.2107 - student_loss: 0.2107 - distillation_loss: 2.8805e-04 - val_categorical_crossentropy: 0.1571 - val_student_loss: 0.1571\n",
      "Epoch 25/200\n",
      "1/1 [==============================] - 1s 1s/step - categorical_crossentropy: 0.1979 - student_loss: 0.1979 - distillation_loss: 2.4908e-04 - val_categorical_crossentropy: 0.1419 - val_student_loss: 0.1419\n",
      "Epoch 26/200\n",
      "1/1 [==============================] - 1s 1s/step - categorical_crossentropy: 0.1741 - student_loss: 0.1741 - distillation_loss: 2.0338e-04 - val_categorical_crossentropy: 0.1367 - val_student_loss: 0.1367\n",
      "Epoch 27/200\n",
      "1/1 [==============================] - 1s 1s/step - categorical_crossentropy: 0.1649 - student_loss: 0.1649 - distillation_loss: 2.2842e-04 - val_categorical_crossentropy: 0.1107 - val_student_loss: 0.1107\n",
      "Epoch 28/200\n",
      "1/1 [==============================] - 1s 1s/step - categorical_crossentropy: 0.1508 - student_loss: 0.1508 - distillation_loss: 1.7304e-04 - val_categorical_crossentropy: 0.0986 - val_student_loss: 0.0986\n",
      "Epoch 29/200\n",
      "1/1 [==============================] - 1s 1s/step - categorical_crossentropy: 0.1342 - student_loss: 0.1342 - distillation_loss: 1.5737e-04 - val_categorical_crossentropy: 0.0899 - val_student_loss: 0.0899\n",
      "Epoch 30/200\n",
      "1/1 [==============================] - 1s 1s/step - categorical_crossentropy: 0.1431 - student_loss: 0.1431 - distillation_loss: 1.9747e-04 - val_categorical_crossentropy: 0.0867 - val_student_loss: 0.0867\n",
      "Epoch 31/200\n",
      "1/1 [==============================] - 1s 1s/step - categorical_crossentropy: 0.1191 - student_loss: 0.1191 - distillation_loss: 1.3370e-04 - val_categorical_crossentropy: 0.0722 - val_student_loss: 0.0722\n",
      "Epoch 32/200\n",
      "1/1 [==============================] - 1s 1s/step - categorical_crossentropy: 0.1000 - student_loss: 0.1000 - distillation_loss: 1.0932e-04 - val_categorical_crossentropy: 0.0800 - val_student_loss: 0.0800\n",
      "Epoch 33/200\n",
      "1/1 [==============================] - 1s 1s/step - categorical_crossentropy: 0.1112 - student_loss: 0.1112 - distillation_loss: 1.5359e-04 - val_categorical_crossentropy: 0.0615 - val_student_loss: 0.0615\n",
      "Epoch 34/200\n",
      "1/1 [==============================] - 1s 1s/step - categorical_crossentropy: 0.0770 - student_loss: 0.0770 - distillation_loss: 8.0103e-05 - val_categorical_crossentropy: 0.0571 - val_student_loss: 0.0571\n",
      "Epoch 35/200\n",
      "1/1 [==============================] - 1s 1s/step - categorical_crossentropy: 0.0732 - student_loss: 0.0732 - distillation_loss: 6.8248e-05 - val_categorical_crossentropy: 0.0525 - val_student_loss: 0.0525\n",
      "Epoch 36/200\n",
      "1/1 [==============================] - 1s 1s/step - categorical_crossentropy: 0.0663 - student_loss: 0.0663 - distillation_loss: 5.8998e-05 - val_categorical_crossentropy: 0.0451 - val_student_loss: 0.0451\n",
      "Epoch 37/200\n",
      "1/1 [==============================] - 1s 1s/step - categorical_crossentropy: 0.0570 - student_loss: 0.0570 - distillation_loss: 4.8743e-05 - val_categorical_crossentropy: 0.0480 - val_student_loss: 0.0480\n",
      "Epoch 38/200\n"
     ]
    },
    {
     "name": "stdout",
     "output_type": "stream",
     "text": [
      "1/1 [==============================] - 1s 1s/step - categorical_crossentropy: 0.0646 - student_loss: 0.0646 - distillation_loss: 7.5859e-05 - val_categorical_crossentropy: 0.0371 - val_student_loss: 0.0371\n",
      "Epoch 39/200\n",
      "1/1 [==============================] - 1s 1s/step - categorical_crossentropy: 0.0513 - student_loss: 0.0513 - distillation_loss: 4.7960e-05 - val_categorical_crossentropy: 0.0395 - val_student_loss: 0.0395\n",
      "Epoch 40/200\n",
      "1/1 [==============================] - 1s 1s/step - categorical_crossentropy: 0.0583 - student_loss: 0.0583 - distillation_loss: 5.7393e-05 - val_categorical_crossentropy: 0.0328 - val_student_loss: 0.0328\n",
      "Epoch 41/200\n",
      "1/1 [==============================] - 1s 1s/step - categorical_crossentropy: 0.0422 - student_loss: 0.0422 - distillation_loss: 3.2913e-05 - val_categorical_crossentropy: 0.0266 - val_student_loss: 0.0266\n",
      "Epoch 42/200\n",
      "1/1 [==============================] - 1s 1s/step - categorical_crossentropy: 0.0265 - student_loss: 0.0265 - distillation_loss: 1.3178e-05 - val_categorical_crossentropy: 0.0270 - val_student_loss: 0.0270\n",
      "Epoch 43/200\n",
      "1/1 [==============================] - 1s 1s/step - categorical_crossentropy: 0.0362 - student_loss: 0.0362 - distillation_loss: 2.9288e-05 - val_categorical_crossentropy: 0.0229 - val_student_loss: 0.0229\n",
      "Epoch 44/200\n",
      "1/1 [==============================] - 1s 1s/step - categorical_crossentropy: 0.0231 - student_loss: 0.0231 - distillation_loss: 1.0082e-05 - val_categorical_crossentropy: 0.0200 - val_student_loss: 0.0200\n",
      "Epoch 45/200\n",
      "1/1 [==============================] - 1s 1s/step - categorical_crossentropy: 0.0238 - student_loss: 0.0238 - distillation_loss: 1.2044e-05 - val_categorical_crossentropy: 0.0194 - val_student_loss: 0.0194\n",
      "Epoch 46/200\n",
      "1/1 [==============================] - 1s 1s/step - categorical_crossentropy: 0.0272 - student_loss: 0.0272 - distillation_loss: 1.9633e-05 - val_categorical_crossentropy: 0.0175 - val_student_loss: 0.0175\n",
      "Epoch 47/200\n",
      "1/1 [==============================] - 1s 1s/step - categorical_crossentropy: 0.0192 - student_loss: 0.0192 - distillation_loss: 1.0044e-05 - val_categorical_crossentropy: 0.0151 - val_student_loss: 0.0151\n",
      "Epoch 48/200\n",
      "1/1 [==============================] - 1s 1s/step - categorical_crossentropy: 0.0176 - student_loss: 0.0176 - distillation_loss: 9.1640e-06 - val_categorical_crossentropy: 0.0128 - val_student_loss: 0.0128\n",
      "Epoch 49/200\n",
      "1/1 [==============================] - 1s 1s/step - categorical_crossentropy: 0.0205 - student_loss: 0.0205 - distillation_loss: 1.3366e-05 - val_categorical_crossentropy: 0.0126 - val_student_loss: 0.0126\n",
      "Epoch 50/200\n",
      "1/1 [==============================] - 1s 1s/step - categorical_crossentropy: 0.0119 - student_loss: 0.0119 - distillation_loss: 3.1567e-06 - val_categorical_crossentropy: 0.0129 - val_student_loss: 0.0129\n",
      "Epoch 51/200\n",
      "1/1 [==============================] - 1s 1s/step - categorical_crossentropy: 0.0122 - student_loss: 0.0122 - distillation_loss: 5.1628e-06 - val_categorical_crossentropy: 0.0109 - val_student_loss: 0.0109\n",
      "Epoch 52/200\n",
      "1/1 [==============================] - 1s 1s/step - categorical_crossentropy: 0.0125 - student_loss: 0.0125 - distillation_loss: 5.0111e-06 - val_categorical_crossentropy: 0.0086 - val_student_loss: 0.0086\n",
      "Epoch 53/200\n",
      "1/1 [==============================] - 1s 1s/step - categorical_crossentropy: 0.0093 - student_loss: 0.0093 - distillation_loss: 2.1283e-06 - val_categorical_crossentropy: 0.0091 - val_student_loss: 0.0091\n",
      "Epoch 54/200\n",
      "1/1 [==============================] - 1s 1s/step - categorical_crossentropy: 0.0081 - student_loss: 0.0081 - distillation_loss: 1.2254e-06 - val_categorical_crossentropy: 0.0094 - val_student_loss: 0.0094\n",
      "Epoch 55/200\n",
      "1/1 [==============================] - 1s 1s/step - categorical_crossentropy: 0.0094 - student_loss: 0.0094 - distillation_loss: 2.3158e-06 - val_categorical_crossentropy: 0.0081 - val_student_loss: 0.0081\n",
      "Epoch 56/200\n",
      "1/1 [==============================] - 1s 1s/step - categorical_crossentropy: 0.0068 - student_loss: 0.0068 - distillation_loss: 1.2321e-06 - val_categorical_crossentropy: 0.0063 - val_student_loss: 0.0063\n",
      "Epoch 57/200\n",
      "1/1 [==============================] - 1s 1s/step - categorical_crossentropy: 0.0048 - student_loss: 0.0048 - distillation_loss: 3.6454e-07 - val_categorical_crossentropy: 0.0053 - val_student_loss: 0.0053\n",
      "Epoch 58/200\n",
      "1/1 [==============================] - 1s 1s/step - categorical_crossentropy: 0.0051 - student_loss: 0.0051 - distillation_loss: 5.5018e-07 - val_categorical_crossentropy: 0.0051 - val_student_loss: 0.0051\n",
      "Epoch 59/200\n",
      "1/1 [==============================] - 1s 1s/step - categorical_crossentropy: 0.0077 - student_loss: 0.0077 - distillation_loss: 3.9170e-06 - val_categorical_crossentropy: 0.0049 - val_student_loss: 0.0049\n",
      "Epoch 60/200\n",
      "1/1 [==============================] - 1s 1s/step - categorical_crossentropy: 0.0051 - student_loss: 0.0051 - distillation_loss: 5.8252e-07 - val_categorical_crossentropy: 0.0045 - val_student_loss: 0.0045\n",
      "Epoch 61/200\n",
      "1/1 [==============================] - 1s 1s/step - categorical_crossentropy: 0.0061 - student_loss: 0.0061 - distillation_loss: 2.2526e-06 - val_categorical_crossentropy: 0.0039 - val_student_loss: 0.0039\n",
      "Epoch 62/200\n",
      "1/1 [==============================] - 1s 1s/step - categorical_crossentropy: 0.0038 - student_loss: 0.0038 - distillation_loss: 6.6951e-07 - val_categorical_crossentropy: 0.0036 - val_student_loss: 0.0036\n",
      "Epoch 63/200\n",
      "1/1 [==============================] - 1s 1s/step - categorical_crossentropy: 0.0052 - student_loss: 0.0052 - distillation_loss: 1.0632e-06 - val_categorical_crossentropy: 0.0034 - val_student_loss: 0.0034\n",
      "Epoch 64/200\n",
      "1/1 [==============================] - 1s 1s/step - categorical_crossentropy: 0.0048 - student_loss: 0.0048 - distillation_loss: 7.2800e-07 - val_categorical_crossentropy: 0.0032 - val_student_loss: 0.0032\n",
      "Epoch 65/200\n",
      "1/1 [==============================] - 2s 2s/step - categorical_crossentropy: 0.0055 - student_loss: 0.0055 - distillation_loss: 2.5598e-06 - val_categorical_crossentropy: 0.0030 - val_student_loss: 0.0030\n",
      "Epoch 66/200\n",
      "1/1 [==============================] - 2s 2s/step - categorical_crossentropy: 0.0049 - student_loss: 0.0049 - distillation_loss: 2.9007e-06 - val_categorical_crossentropy: 0.0030 - val_student_loss: 0.0030\n",
      "Epoch 67/200\n",
      "1/1 [==============================] - 3s 3s/step - categorical_crossentropy: 0.0027 - student_loss: 0.0027 - distillation_loss: 1.9516e-07 - val_categorical_crossentropy: 0.0029 - val_student_loss: 0.0029\n",
      "Epoch 68/200\n",
      "1/1 [==============================] - 3s 3s/step - categorical_crossentropy: 0.0040 - student_loss: 0.0040 - distillation_loss: 5.7352e-07 - val_categorical_crossentropy: 0.0026 - val_student_loss: 0.0026\n",
      "Epoch 69/200\n",
      "1/1 [==============================] - 3s 3s/step - categorical_crossentropy: 0.0038 - student_loss: 0.0038 - distillation_loss: 1.4302e-06 - val_categorical_crossentropy: 0.0022 - val_student_loss: 0.0022\n",
      "Epoch 70/200\n",
      "1/1 [==============================] - 3s 3s/step - categorical_crossentropy: 0.0028 - student_loss: 0.0028 - distillation_loss: 2.1132e-07 - val_categorical_crossentropy: 0.0023 - val_student_loss: 0.0023\n",
      "Epoch 71/200\n",
      "1/1 [==============================] - 3s 3s/step - categorical_crossentropy: 0.0035 - student_loss: 0.0035 - distillation_loss: 5.7703e-07 - val_categorical_crossentropy: 0.0023 - val_student_loss: 0.0023\n",
      "Epoch 72/200\n",
      "1/1 [==============================] - 3s 3s/step - categorical_crossentropy: 0.0034 - student_loss: 0.0034 - distillation_loss: 7.4173e-07 - val_categorical_crossentropy: 0.0021 - val_student_loss: 0.0021\n",
      "Epoch 73/200\n",
      "1/1 [==============================] - 2s 2s/step - categorical_crossentropy: 0.0038 - student_loss: 0.0038 - distillation_loss: 1.2669e-06 - val_categorical_crossentropy: 0.0017 - val_student_loss: 0.0017\n",
      "Epoch 74/200\n",
      "1/1 [==============================] - 1s 1s/step - categorical_crossentropy: 0.0023 - student_loss: 0.0023 - distillation_loss: 3.5452e-07 - val_categorical_crossentropy: 0.0017 - val_student_loss: 0.0017\n",
      "Epoch 75/200\n"
     ]
    },
    {
     "name": "stdout",
     "output_type": "stream",
     "text": [
      "1/1 [==============================] - 1s 1s/step - categorical_crossentropy: 0.0023 - student_loss: 0.0023 - distillation_loss: 3.1728e-07 - val_categorical_crossentropy: 0.0018 - val_student_loss: 0.0018\n",
      "Epoch 76/200\n",
      "1/1 [==============================] - 1s 1s/step - categorical_crossentropy: 0.0049 - student_loss: 0.0049 - distillation_loss: 2.0960e-06 - val_categorical_crossentropy: 0.0015 - val_student_loss: 0.0015\n",
      "Epoch 77/200\n",
      "1/1 [==============================] - 2s 2s/step - categorical_crossentropy: 0.0022 - student_loss: 0.0022 - distillation_loss: 2.4307e-07 - val_categorical_crossentropy: 0.0014 - val_student_loss: 0.0014\n",
      "Restoring model weights from the end of the best epoch.\n",
      "Epoch 00077: early stopping\n"
     ]
    }
   ],
   "source": [
    "EPOCHS = 200\n",
    "\n",
    "distiller = Distiller(student=student, teacher=teacher)\n",
    "\n",
    "distiller.compile(optimizer='adam', metrics=['categorical_crossentropy'],\n",
    "                  student_loss_fn=keras.losses.CategoricalCrossentropy(),\n",
    "                  distillation_loss_fn=keras.losses.KLDivergence(),\n",
    "                  alpha=0.1, temperature=10)\n",
    "\n",
    "es = EarlyStopping(monitor='student_loss', patience=10, min_delta=0.001, verbose=1,\n",
    "                   restore_best_weights=True, mode='min')\n",
    "\n",
    "history_d = distiller.fit(train_X, train_Y, batch_size=BS, epochs=EPOCHS, callbacks=[es],\n",
    "                      validation_data=(valid_X, valid_Y))"
   ]
  },
  {
   "cell_type": "markdown",
   "id": "1177a084",
   "metadata": {},
   "source": [
    "Ok, now we can plot the history and see the evolution of loss and accuracy"
   ]
  },
  {
   "cell_type": "code",
   "execution_count": 10,
   "id": "bab8f648",
   "metadata": {},
   "outputs": [
    {
     "data": {
      "image/png": "[encoded data removed]",
      "text/plain": [
       "<Figure size 1080x360 with 3 Axes>"
      ]
     },
     "metadata": {
      "needs_background": "light"
     },
     "output_type": "display_data"
    }
   ],
   "source": [
    "plot_history(history_d.history)\n",
    "plt.show()"
   ]
  },
  {
   "cell_type": "markdown",
   "id": "90ccdb50",
   "metadata": {},
   "source": [
    "Looks good! Now, we compute the accuracy on the validation data."
   ]
  },
  {
   "cell_type": "code",
   "execution_count": 11,
   "id": "c28c6794",
   "metadata": {},
   "outputs": [
    {
     "name": "stdout",
     "output_type": "stream",
     "text": [
      "Accuracy on input dataset: 100.00%\n"
     ]
    }
   ],
   "source": [
    "pred = student.predict(valid_X)\n",
    "acc = np.sum(np.argmax(pred, axis=1) == np.argmax(valid_Y, axis=1)) / len(valid_Y)\n",
    "print(f\"Accuracy on input dataset: {acc * 100:.2f}%\")"
   ]
  },
  {
   "cell_type": "markdown",
   "id": "87805139",
   "metadata": {},
   "source": [
    "As expected, the accuracy is very high on the simple dataset with only two classes. Let's proceed by creating some corrupted inputs, using FGSM method."
   ]
  },
  {
   "cell_type": "code",
   "execution_count": 14,
   "id": "5ca21622",
   "metadata": {},
   "outputs": [],
   "source": [
    "EPSILON = 0.03\n",
    "\n",
    "valid_X_fgsm = fast_gradient_method(student, valid_X, EPSILON, np.inf)"
   ]
  },
  {
   "cell_type": "markdown",
   "id": "56d51fba",
   "metadata": {},
   "source": [
    "Finally, we compute the accuracy of the model on the corrupted data"
   ]
  },
  {
   "cell_type": "code",
   "execution_count": 15,
   "id": "1d8cf0e8",
   "metadata": {},
   "outputs": [
    {
     "name": "stdout",
     "output_type": "stream",
     "text": [
      "Accuracy on fgsm-corrupted dataset: 90.62%\n"
     ]
    }
   ],
   "source": [
    "pred_fgsm = student.predict(valid_X_fgsm)\n",
    "acc_fgsm = np.sum(np.argmax(pred_fgsm, axis=1) == np.argmax(valid_Y, axis=1)) / len(valid_Y)\n",
    "print(f\"Accuracy on fgsm-corrupted dataset: {acc_fgsm * 100:.2f}%\")"
   ]
  }
 ],
 "metadata": {
  "kernelspec": {
   "display_name": "adv",
   "language": "python",
   "name": "adv"
  },
  "language_info": {
   "codemirror_mode": {
    "name": "ipython",
    "version": 3
   },
   "file_extension": ".py",
   "mimetype": "text/x-python",
   "name": "python",
   "nbconvert_exporter": "python",
   "pygments_lexer": "ipython3",
   "version": "3.9.9"
  }
 },
 "nbformat": 4,
 "nbformat_minor": 5
}
