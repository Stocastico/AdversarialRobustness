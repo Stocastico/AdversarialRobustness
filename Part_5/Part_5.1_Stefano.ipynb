{
 "cells": [
  {
   "cell_type": "code",
   "execution_count": 14,
   "id": "7cb09f2d",
   "metadata": {},
   "outputs": [],
   "source": [
    "# Usual imports\n",
    "import numpy as np\n",
    "import pandas as pd\n",
    "from sklearn.model_selection import train_test_split\n",
    "from matplotlib import pyplot as plt\n",
    "plt.rcParams[\"figure.figsize\"] = (18, 10)\n",
    "\n",
    "# OpenCV\n",
    "import cv2\n",
    "\n",
    "# Keras\n",
    "from tensorflow.keras.layers import *\n",
    "from tensorflow.keras.models import load_model, Sequential\n",
    "from tensorflow.keras.preprocessing.image import img_to_array\n",
    "from tensorflow.keras.utils import to_categorical\n",
    "from tensorflow.keras.callbacks import EarlyStopping\n",
    "\n",
    "# Cleverhans\n",
    "from cleverhans.tf2.attacks.fast_gradient_method import fast_gradient_method\n",
    "\n",
    "# Other modules\n",
    "from pathlib import Path\n",
    "from glob import glob\n",
    "from tqdm.notebook import tqdm\n",
    "from plot_keras_history import plot_history"
   ]
  },
  {
   "cell_type": "markdown",
   "id": "295b2f7f",
   "metadata": {},
   "source": [
    "We now load the data that will be used for our models"
   ]
  },
  {
   "cell_type": "code",
   "execution_count": 3,
   "id": "3d293991",
   "metadata": {},
   "outputs": [],
   "source": [
    "DATA_FOLDER = Path('../data')\n",
    "IMG_FOLDER = Path(DATA_FOLDER / 'tsrd-train')\n",
    "ANNOTATIONS = Path(DATA_FOLDER / 'TsignRecgTrain4170Annotation.txt')\n",
    "COL_NAMES = ['filename','width','height','x1','y1','x2','y2','label']\n",
    "MODEL_FOLDER = Path('../Part_1')\n",
    "MODEL = Path(MODEL_FOLDER / 'chinese_traffic_sign_classifier_v1.h5')"
   ]
  },
  {
   "cell_type": "markdown",
   "id": "1b2cf6ff",
   "metadata": {},
   "source": [
    "Let's load the images from the dataset, keeping only the ones labeled **0** or **1**"
   ]
  },
  {
   "cell_type": "code",
   "execution_count": 6,
   "id": "147a04c4",
   "metadata": {},
   "outputs": [
    {
     "name": "stdout",
     "output_type": "stream",
     "text": [
      "There are 158 images in teh dataset\n"
     ]
    }
   ],
   "source": [
    "images = glob(str(IMG_FOLDER) + '/*.png')\n",
    "IMG_SIZE = (134,128)\n",
    "\n",
    "dataset = []\n",
    "labels = []\n",
    "\n",
    "df = pd.read_csv(ANNOTATIONS, names=COL_NAMES, sep=';', header=None, index_col=False)\n",
    "\n",
    "# Probably a better approach: filter all rows in the csv, then load only corresponding images...\n",
    "for idx in range(len(images)):\n",
    "    # get label specific to this image\n",
    "    full_img_path = images[idx]\n",
    "    filename = Path(full_img_path).name\n",
    "    row = df[df['filename'] == filename]\n",
    "    label = row['label'].values[0]\n",
    "    if label == 0 or label == 1:\n",
    "        \n",
    "        img_bgr = cv2.imread(full_img_path)\n",
    "        image = cv2.cvtColor(img_bgr, cv2.COLOR_BGR2RGB)\n",
    "        image = cv2.resize(image, IMG_SIZE)\n",
    "        image = img_to_array(image)\n",
    "        dataset.append(image)\n",
    "        labels.append(label)\n",
    "\n",
    "print(f'There are {len(dataset)} images in teh dataset')\n",
    "        "
   ]
  },
  {
   "cell_type": "markdown",
   "id": "88652c2e",
   "metadata": {},
   "source": [
    "Let's now normalize the images, categorize the labels and split into training and validation sets"
   ]
  },
  {
   "cell_type": "code",
   "execution_count": 8,
   "id": "bbf90fe4",
   "metadata": {},
   "outputs": [],
   "source": [
    "dataset = np.array(dataset) / 255.0\n",
    "labels = to_categorical(labels)\n",
    "\n",
    "(train_X, valid_X, train_Y, valid_Y) = train_test_split(dataset, labels, test_size=0.2)"
   ]
  },
  {
   "cell_type": "markdown",
   "id": "c666957b",
   "metadata": {},
   "source": [
    "We now define a model similar to the one trained in the very first project, but working with only the first two classes of the dataset"
   ]
  },
  {
   "cell_type": "code",
   "execution_count": 15,
   "id": "be103706",
   "metadata": {},
   "outputs": [],
   "source": [
    "def create_model(input_dims, num_classes):\n",
    "    model = Sequential()\n",
    "    \n",
    "    model.add(Conv2D(32, (5, 5), activation='relu', input_shape=input_dims))\n",
    "    model.add(MaxPooling2D(pool_size=(5, 5)))\n",
    "    model.add(Conv2D(32, (5, 5),activation='relu'))\n",
    "    model.add(MaxPooling2D(pool_size=(5, 5)))\n",
    "    model.add(Flatten())  \n",
    "    model.add(Dense(64, activation='relu',))\n",
    "    model.add(Dropout(0.2))\n",
    "    model.add(Dense(num_classes, activation='softmax'))\n",
    "     \n",
    "    model.compile(loss='categorical_crossentropy', optimizer='rmsprop', metrics=['accuracy'])\n",
    "    \n",
    "    return model\n",
    "\n",
    "student = create_model(train_X[0,:].shape, train_Y.shape[1])"
   ]
  },
  {
   "cell_type": "markdown",
   "id": "7321f7cd",
   "metadata": {},
   "source": [
    "Ok, we are now ready to train the model. We will use an Early Stopping callback and will play a bit with the batch size"
   ]
  },
  {
   "cell_type": "code",
   "execution_count": 16,
   "id": "82dfe4a9",
   "metadata": {},
   "outputs": [
    {
     "name": "stdout",
     "output_type": "stream",
     "text": [
      "Epoch 1/100\n",
      "1/1 [==============================] - 2s 2s/step - loss: 0.7564 - accuracy: 0.2698 - val_loss: 0.5090 - val_accuracy: 0.7812\n",
      "Epoch 2/100\n",
      "1/1 [==============================] - 1s 901ms/step - loss: 0.5673 - accuracy: 0.7381 - val_loss: 0.5304 - val_accuracy: 0.7812\n",
      "Epoch 3/100\n",
      "1/1 [==============================] - 1s 849ms/step - loss: 0.5561 - accuracy: 0.7381 - val_loss: 0.5202 - val_accuracy: 0.7812\n",
      "Epoch 4/100\n",
      "1/1 [==============================] - 1s 854ms/step - loss: 0.5990 - accuracy: 0.7381 - val_loss: 0.5752 - val_accuracy: 0.7812\n",
      "Epoch 5/100\n",
      "1/1 [==============================] - 1s 890ms/step - loss: 0.5892 - accuracy: 0.7381 - val_loss: 0.4923 - val_accuracy: 0.7812\n",
      "Epoch 6/100\n",
      "1/1 [==============================] - 1s 948ms/step - loss: 0.5402 - accuracy: 0.7381 - val_loss: 0.4840 - val_accuracy: 0.7812\n",
      "Epoch 7/100\n",
      "1/1 [==============================] - 1s 868ms/step - loss: 0.5167 - accuracy: 0.7381 - val_loss: 0.4715 - val_accuracy: 0.7812\n",
      "Epoch 8/100\n",
      "1/1 [==============================] - 1s 830ms/step - loss: 0.5048 - accuracy: 0.7381 - val_loss: 0.4655 - val_accuracy: 0.7812\n",
      "Epoch 9/100\n",
      "1/1 [==============================] - 1s 871ms/step - loss: 0.4982 - accuracy: 0.7381 - val_loss: 0.4535 - val_accuracy: 0.7812\n",
      "Epoch 10/100\n",
      "1/1 [==============================] - 1s 848ms/step - loss: 0.4937 - accuracy: 0.7381 - val_loss: 0.4418 - val_accuracy: 0.7812\n",
      "Epoch 11/100\n",
      "1/1 [==============================] - 1s 889ms/step - loss: 0.4738 - accuracy: 0.7381 - val_loss: 0.4177 - val_accuracy: 0.7812\n",
      "Epoch 12/100\n",
      "1/1 [==============================] - 1s 855ms/step - loss: 0.4542 - accuracy: 0.7381 - val_loss: 0.4746 - val_accuracy: 0.7812\n",
      "Epoch 13/100\n",
      "1/1 [==============================] - 1s 873ms/step - loss: 0.4807 - accuracy: 0.7381 - val_loss: 0.4866 - val_accuracy: 0.7812\n",
      "Epoch 14/100\n",
      "1/1 [==============================] - 1s 857ms/step - loss: 0.5753 - accuracy: 0.7381 - val_loss: 0.5166 - val_accuracy: 0.9062\n",
      "Epoch 15/100\n",
      "1/1 [==============================] - 1s 846ms/step - loss: 0.4960 - accuracy: 0.9286 - val_loss: 0.3858 - val_accuracy: 0.7812\n",
      "Epoch 16/100\n",
      "1/1 [==============================] - 1s 836ms/step - loss: 0.3990 - accuracy: 0.7381 - val_loss: 0.3741 - val_accuracy: 0.8125\n",
      "Epoch 17/100\n",
      "1/1 [==============================] - 1s 842ms/step - loss: 0.3782 - accuracy: 0.8016 - val_loss: 0.3385 - val_accuracy: 0.7812\n",
      "Epoch 18/100\n",
      "1/1 [==============================] - 1s 829ms/step - loss: 0.3671 - accuracy: 0.7698 - val_loss: 0.3777 - val_accuracy: 1.0000\n",
      "Epoch 19/100\n",
      "1/1 [==============================] - 1s 865ms/step - loss: 0.3616 - accuracy: 0.9603 - val_loss: 0.3574 - val_accuracy: 0.7812\n",
      "Epoch 20/100\n",
      "1/1 [==============================] - 1s 853ms/step - loss: 0.3981 - accuracy: 0.7381 - val_loss: 0.3657 - val_accuracy: 1.0000\n",
      "Epoch 21/100\n",
      "1/1 [==============================] - 1s 1s/step - loss: 0.3347 - accuracy: 0.9921 - val_loss: 0.2930 - val_accuracy: 0.8125\n",
      "Epoch 22/100\n",
      "1/1 [==============================] - 1s 927ms/step - loss: 0.3207 - accuracy: 0.7778 - val_loss: 0.2961 - val_accuracy: 1.0000\n",
      "Epoch 23/100\n",
      "1/1 [==============================] - 1s 861ms/step - loss: 0.2688 - accuracy: 0.9841 - val_loss: 0.2403 - val_accuracy: 0.8125\n",
      "Epoch 24/100\n",
      "1/1 [==============================] - 1s 892ms/step - loss: 0.2521 - accuracy: 0.8492 - val_loss: 0.3103 - val_accuracy: 1.0000\n",
      "Epoch 25/100\n",
      "1/1 [==============================] - 1s 848ms/step - loss: 0.2723 - accuracy: 0.9683 - val_loss: 0.2711 - val_accuracy: 0.8125\n",
      "Epoch 26/100\n",
      "1/1 [==============================] - 1s 887ms/step - loss: 0.3058 - accuracy: 0.7937 - val_loss: 0.2465 - val_accuracy: 1.0000\n",
      "Epoch 27/100\n",
      "1/1 [==============================] - 1s 854ms/step - loss: 0.2101 - accuracy: 1.0000 - val_loss: 0.1782 - val_accuracy: 1.0000\n",
      "Epoch 28/100\n",
      "1/1 [==============================] - 1s 896ms/step - loss: 0.1831 - accuracy: 0.9683 - val_loss: 0.1719 - val_accuracy: 1.0000\n",
      "Epoch 29/100\n",
      "1/1 [==============================] - 1s 884ms/step - loss: 0.1626 - accuracy: 1.0000 - val_loss: 0.1487 - val_accuracy: 1.0000\n",
      "Epoch 30/100\n",
      "1/1 [==============================] - 1s 855ms/step - loss: 0.1398 - accuracy: 0.9841 - val_loss: 0.1560 - val_accuracy: 1.0000\n",
      "Epoch 31/100\n",
      "1/1 [==============================] - 1s 823ms/step - loss: 0.1416 - accuracy: 1.0000 - val_loss: 0.1324 - val_accuracy: 1.0000\n",
      "Epoch 32/100\n",
      "1/1 [==============================] - 1s 823ms/step - loss: 0.1374 - accuracy: 0.9683 - val_loss: 0.1667 - val_accuracy: 1.0000\n",
      "Epoch 33/100\n",
      "1/1 [==============================] - 1s 828ms/step - loss: 0.1400 - accuracy: 1.0000 - val_loss: 0.1326 - val_accuracy: 1.0000\n",
      "Epoch 34/100\n",
      "1/1 [==============================] - 1s 813ms/step - loss: 0.1337 - accuracy: 0.9603 - val_loss: 0.1365 - val_accuracy: 1.0000\n",
      "Epoch 35/100\n",
      "1/1 [==============================] - 1s 898ms/step - loss: 0.1025 - accuracy: 1.0000 - val_loss: 0.0912 - val_accuracy: 1.0000\n",
      "Epoch 36/100\n",
      "1/1 [==============================] - 1s 933ms/step - loss: 0.0911 - accuracy: 0.9921 - val_loss: 0.0933 - val_accuracy: 1.0000\n",
      "Epoch 37/100\n",
      "1/1 [==============================] - 1s 991ms/step - loss: 0.0756 - accuracy: 1.0000 - val_loss: 0.0758 - val_accuracy: 1.0000\n",
      "Epoch 38/100\n",
      "1/1 [==============================] - 1s 909ms/step - loss: 0.0797 - accuracy: 0.9841 - val_loss: 0.0865 - val_accuracy: 1.0000\n",
      "Epoch 39/100\n",
      "1/1 [==============================] - 1s 899ms/step - loss: 0.0665 - accuracy: 1.0000 - val_loss: 0.0640 - val_accuracy: 1.0000\n",
      "Epoch 40/100\n",
      "1/1 [==============================] - 1s 947ms/step - loss: 0.0625 - accuracy: 1.0000 - val_loss: 0.0707 - val_accuracy: 1.0000\n",
      "Epoch 41/100\n",
      "1/1 [==============================] - 1s 918ms/step - loss: 0.0597 - accuracy: 1.0000 - val_loss: 0.0534 - val_accuracy: 1.0000\n",
      "Epoch 42/100\n",
      "1/1 [==============================] - 1s 956ms/step - loss: 0.0536 - accuracy: 1.0000 - val_loss: 0.0725 - val_accuracy: 1.0000\n",
      "Epoch 43/100\n",
      "1/1 [==============================] - 1s 894ms/step - loss: 0.0560 - accuracy: 1.0000 - val_loss: 0.0439 - val_accuracy: 1.0000\n",
      "Epoch 44/100\n",
      "1/1 [==============================] - 1s 933ms/step - loss: 0.0573 - accuracy: 0.9841 - val_loss: 0.0666 - val_accuracy: 1.0000\n",
      "Epoch 45/100\n",
      "1/1 [==============================] - 1s 885ms/step - loss: 0.0403 - accuracy: 1.0000 - val_loss: 0.0355 - val_accuracy: 1.0000\n",
      "Epoch 46/100\n",
      "1/1 [==============================] - 1s 868ms/step - loss: 0.0348 - accuracy: 1.0000 - val_loss: 0.0388 - val_accuracy: 1.0000\n",
      "Epoch 47/100\n",
      "1/1 [==============================] - 1s 885ms/step - loss: 0.0285 - accuracy: 1.0000 - val_loss: 0.0298 - val_accuracy: 1.0000\n",
      "Epoch 48/100\n",
      "1/1 [==============================] - 1s 880ms/step - loss: 0.0267 - accuracy: 1.0000 - val_loss: 0.0305 - val_accuracy: 1.0000\n",
      "Epoch 49/100\n",
      "1/1 [==============================] - 1s 859ms/step - loss: 0.0198 - accuracy: 1.0000 - val_loss: 0.0264 - val_accuracy: 1.0000\n",
      "Epoch 50/100\n",
      "1/1 [==============================] - 1s 859ms/step - loss: 0.0273 - accuracy: 1.0000 - val_loss: 0.0312 - val_accuracy: 1.0000\n",
      "Epoch 51/100\n",
      "1/1 [==============================] - 1s 850ms/step - loss: 0.0226 - accuracy: 1.0000 - val_loss: 0.0242 - val_accuracy: 1.0000\n",
      "Epoch 52/100\n",
      "1/1 [==============================] - 1s 885ms/step - loss: 0.0162 - accuracy: 1.0000 - val_loss: 0.0197 - val_accuracy: 1.0000\n",
      "Epoch 53/100\n",
      "1/1 [==============================] - 1s 888ms/step - loss: 0.0139 - accuracy: 1.0000 - val_loss: 0.0201 - val_accuracy: 1.0000\n",
      "Epoch 54/100\n",
      "1/1 [==============================] - 1s 866ms/step - loss: 0.0138 - accuracy: 1.0000 - val_loss: 0.0188 - val_accuracy: 1.0000\n",
      "Epoch 55/100\n",
      "1/1 [==============================] - 1s 877ms/step - loss: 0.0128 - accuracy: 1.0000 - val_loss: 0.0153 - val_accuracy: 1.0000\n",
      "Epoch 56/100\n",
      "1/1 [==============================] - 1s 881ms/step - loss: 0.0117 - accuracy: 1.0000 - val_loss: 0.0178 - val_accuracy: 1.0000\n",
      "Epoch 57/100\n",
      "1/1 [==============================] - 1s 866ms/step - loss: 0.0132 - accuracy: 1.0000 - val_loss: 0.0174 - val_accuracy: 1.0000\n",
      "Epoch 58/100\n",
      "1/1 [==============================] - 1s 914ms/step - loss: 0.0098 - accuracy: 1.0000 - val_loss: 0.0127 - val_accuracy: 1.0000\n"
     ]
    },
    {
     "name": "stdout",
     "output_type": "stream",
     "text": [
      "Epoch 59/100\n",
      "1/1 [==============================] - 1s 868ms/step - loss: 0.0132 - accuracy: 1.0000 - val_loss: 0.0192 - val_accuracy: 1.0000\n",
      "Epoch 60/100\n",
      "1/1 [==============================] - 1s 899ms/step - loss: 0.0128 - accuracy: 1.0000 - val_loss: 0.0124 - val_accuracy: 1.0000\n",
      "Epoch 61/100\n",
      "1/1 [==============================] - 1s 888ms/step - loss: 0.0098 - accuracy: 1.0000 - val_loss: 0.0120 - val_accuracy: 1.0000\n",
      "Epoch 62/100\n",
      "1/1 [==============================] - 1s 850ms/step - loss: 0.0069 - accuracy: 1.0000 - val_loss: 0.0133 - val_accuracy: 1.0000\n",
      "Epoch 63/100\n",
      "1/1 [==============================] - 1s 886ms/step - loss: 0.0080 - accuracy: 1.0000 - val_loss: 0.0081 - val_accuracy: 1.0000\n",
      "Epoch 64/100\n",
      "1/1 [==============================] - 1s 893ms/step - loss: 0.0084 - accuracy: 1.0000 - val_loss: 0.0210 - val_accuracy: 1.0000\n",
      "Epoch 65/100\n",
      "1/1 [==============================] - 1s 908ms/step - loss: 0.0092 - accuracy: 1.0000 - val_loss: 0.0090 - val_accuracy: 1.0000\n",
      "Epoch 66/100\n",
      "1/1 [==============================] - 1s 878ms/step - loss: 0.0078 - accuracy: 1.0000 - val_loss: 0.0128 - val_accuracy: 1.0000\n",
      "Epoch 67/100\n",
      "1/1 [==============================] - 1s 851ms/step - loss: 0.0055 - accuracy: 1.0000 - val_loss: 0.0068 - val_accuracy: 1.0000\n",
      "Epoch 68/100\n",
      "1/1 [==============================] - 1s 832ms/step - loss: 0.0048 - accuracy: 1.0000 - val_loss: 0.0071 - val_accuracy: 1.0000\n",
      "Epoch 69/100\n",
      "1/1 [==============================] - 1s 886ms/step - loss: 0.0033 - accuracy: 1.0000 - val_loss: 0.0065 - val_accuracy: 1.0000\n",
      "Epoch 70/100\n",
      "1/1 [==============================] - 1s 860ms/step - loss: 0.0044 - accuracy: 1.0000 - val_loss: 0.0092 - val_accuracy: 1.0000\n",
      "Epoch 71/100\n",
      "1/1 [==============================] - 1s 896ms/step - loss: 0.0027 - accuracy: 1.0000 - val_loss: 0.0047 - val_accuracy: 1.0000\n",
      "Epoch 72/100\n",
      "1/1 [==============================] - 1s 900ms/step - loss: 0.0024 - accuracy: 1.0000 - val_loss: 0.0053 - val_accuracy: 1.0000\n",
      "Epoch 73/100\n",
      "1/1 [==============================] - 1s 906ms/step - loss: 0.0024 - accuracy: 1.0000 - val_loss: 0.0052 - val_accuracy: 1.0000\n",
      "Epoch 74/100\n",
      "1/1 [==============================] - 1s 966ms/step - loss: 0.0038 - accuracy: 1.0000 - val_loss: 0.0043 - val_accuracy: 1.0000\n",
      "Epoch 75/100\n",
      "1/1 [==============================] - 1s 959ms/step - loss: 0.0025 - accuracy: 1.0000 - val_loss: 0.0061 - val_accuracy: 1.0000\n",
      "Epoch 76/100\n",
      "1/1 [==============================] - 1s 922ms/step - loss: 0.0017 - accuracy: 1.0000 - val_loss: 0.0039 - val_accuracy: 1.0000\n",
      "Restoring model weights from the end of the best epoch.\n",
      "Epoch 00076: early stopping\n"
     ]
    }
   ],
   "source": [
    "IMAGE_SIZE = (134,128)\n",
    "BS = 128\n",
    "EPOCHS = 100\n",
    "\n",
    "es = EarlyStopping(monitor='val_loss', patience=5, min_delta=0.001, verbose=1,\n",
    "                   restore_best_weights=True, mode='min')\n",
    "\n",
    "history = student.fit(train_X, train_Y, batch_size=BS, epochs=EPOCHS, callbacks=[es],\n",
    "                      validation_data=(valid_X, valid_Y))"
   ]
  },
  {
   "cell_type": "markdown",
   "id": "957e0ec2",
   "metadata": {},
   "source": [
    "Let's now plot the loss and accuracy curves, and compute the accuracy on the validation data"
   ]
  },
  {
   "cell_type": "code",
   "execution_count": 18,
   "id": "1968e2cd",
   "metadata": {},
   "outputs": [
    {
     "data": {
      "image/png": "[encoded data removed]",
      "text/plain": [
       "<Figure size 720x360 with 2 Axes>"
      ]
     },
     "metadata": {
      "needs_background": "light"
     },
     "output_type": "display_data"
    }
   ],
   "source": [
    "plot_history(history.history)\n",
    "plt.show()"
   ]
  },
  {
   "cell_type": "code",
   "execution_count": 20,
   "id": "da6b6ecd",
   "metadata": {},
   "outputs": [
    {
     "name": "stdout",
     "output_type": "stream",
     "text": [
      "Accuracy on input dataset: 100.00%\n"
     ]
    }
   ],
   "source": [
    "pred = student.predict(valid_X)\n",
    "acc = np.sum(np.argmax(pred, axis=1) == np.argmax(valid_Y, axis=1)) / len(valid_Y)\n",
    "print(f\"Accuracy on input dataset: {acc * 100:.2f}%\")"
   ]
  },
  {
   "cell_type": "markdown",
   "id": "d9a2fbea",
   "metadata": {},
   "source": [
    "As expected, the accuracy is very high on the simple dataset with only two classes. Let's proceed by creating some corrupted inputs, using FGSM method."
   ]
  },
  {
   "cell_type": "code",
   "execution_count": 24,
   "id": "0ffe883a",
   "metadata": {},
   "outputs": [],
   "source": [
    "EPSILON = 0.06\n",
    "\n",
    "valid_X_fgsm = fast_gradient_method(student, valid_X, EPSILON, np.inf)"
   ]
  },
  {
   "cell_type": "markdown",
   "id": "a5bbfd51",
   "metadata": {},
   "source": [
    "Finally, we compute the accuracy of the student model on the corrupted data"
   ]
  },
  {
   "cell_type": "code",
   "execution_count": 25,
   "id": "ba116415",
   "metadata": {},
   "outputs": [
    {
     "name": "stdout",
     "output_type": "stream",
     "text": [
      "Accuracy on fgsm-corrupted dataset: 68.75%\n"
     ]
    }
   ],
   "source": [
    "pred_fgsm = student.predict(valid_X_fgsm)\n",
    "acc_fgsm = np.sum(np.argmax(pred_fgsm, axis=1) == np.argmax(valid_Y, axis=1)) / len(valid_Y)\n",
    "print(f\"Accuracy on fgsm-corrupted dataset: {acc_fgsm * 100:.2f}%\")"
   ]
  }
 ],
 "metadata": {
  "kernelspec": {
   "display_name": "adv",
   "language": "python",
   "name": "adv"
  },
  "language_info": {
   "codemirror_mode": {
    "name": "ipython",
    "version": 3
   },
   "file_extension": ".py",
   "mimetype": "text/x-python",
   "name": "python",
   "nbconvert_exporter": "python",
   "pygments_lexer": "ipython3",
   "version": "3.9.9"
  },
  "toc": {
   "base_numbering": 1,
   "nav_menu": {},
   "number_sections": true,
   "sideBar": true,
   "skip_h1_title": false,
   "title_cell": "Table of Contents",
   "title_sidebar": "Contents",
   "toc_cell": false,
   "toc_position": {},
   "toc_section_display": true,
   "toc_window_display": false
  }
 },
 "nbformat": 4,
 "nbformat_minor": 5
}
