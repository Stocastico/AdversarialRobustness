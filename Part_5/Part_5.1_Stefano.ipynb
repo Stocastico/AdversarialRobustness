{
 "cells": [
  {
   "cell_type": "code",
   "execution_count": 1,
   "id": "7cb09f2d",
   "metadata": {},
   "outputs": [],
   "source": [
    "# Usual imports\n",
    "import numpy as np\n",
    "import pandas as pd\n",
    "from sklearn.model_selection import train_test_split\n",
    "from matplotlib import pyplot as plt\n",
    "plt.rcParams[\"figure.figsize\"] = (18, 10)\n",
    "\n",
    "# OpenCV\n",
    "import cv2\n",
    "\n",
    "# Keras\n",
    "from tensorflow.keras.layers import *\n",
    "from tensorflow.keras.models import load_model, Sequential\n",
    "from tensorflow.keras.preprocessing.image import img_to_array\n",
    "from tensorflow.keras.utils import to_categorical\n",
    "from tensorflow.keras.callbacks import EarlyStopping\n",
    "\n",
    "# Cleverhans\n",
    "from cleverhans.tf2.attacks.fast_gradient_method import fast_gradient_method\n",
    "\n",
    "# Other modules\n",
    "from pathlib import Path\n",
    "from glob import glob\n",
    "from tqdm.notebook import tqdm\n",
    "from plot_keras_history import plot_history"
   ]
  },
  {
   "cell_type": "markdown",
   "id": "295b2f7f",
   "metadata": {},
   "source": [
    "We now load the data that will be used for our models"
   ]
  },
  {
   "cell_type": "code",
   "execution_count": 2,
   "id": "3d293991",
   "metadata": {},
   "outputs": [],
   "source": [
    "DATA_FOLDER = Path('../data')\n",
    "IMG_FOLDER = Path(DATA_FOLDER / 'tsrd-train')\n",
    "ANNOTATIONS = Path(DATA_FOLDER / 'TsignRecgTrain4170Annotation.txt')\n",
    "COL_NAMES = ['filename','width','height','x1','y1','x2','y2','label']\n",
    "MODEL_FOLDER = Path('../Part_1')\n",
    "MODEL = Path(MODEL_FOLDER / 'chinese_traffic_sign_classifier_v1.h5')"
   ]
  },
  {
   "cell_type": "markdown",
   "id": "1b2cf6ff",
   "metadata": {},
   "source": [
    "Let's load the images from the dataset, keeping only the ones labeled **0** or **1**"
   ]
  },
  {
   "cell_type": "code",
   "execution_count": 5,
   "id": "147a04c4",
   "metadata": {},
   "outputs": [
    {
     "name": "stdout",
     "output_type": "stream",
     "text": [
      "There are 158 images in the dataset\n"
     ]
    }
   ],
   "source": [
    "images = glob(str(IMG_FOLDER) + '/*.png')\n",
    "IMG_SIZE = (134,128)\n",
    "\n",
    "dataset = []\n",
    "labels = []\n",
    "\n",
    "df = pd.read_csv(ANNOTATIONS, names=COL_NAMES, sep=';', header=None, index_col=False)\n",
    "\n",
    "# Probably a better approach: filter all rows in the csv, then load only corresponding images...\n",
    "for idx in range(len(images)):\n",
    "    # get label specific to this image\n",
    "    full_img_path = images[idx]\n",
    "    filename = Path(full_img_path).name\n",
    "    row = df[df['filename'] == filename]\n",
    "    label = row['label'].values[0]\n",
    "    if label == 0 or label == 1:\n",
    "        \n",
    "        img_bgr = cv2.imread(full_img_path)\n",
    "        image = cv2.cvtColor(img_bgr, cv2.COLOR_BGR2RGB)\n",
    "        image = cv2.resize(image, IMG_SIZE)\n",
    "        image = img_to_array(image)\n",
    "        dataset.append(image)\n",
    "        labels.append(label)\n",
    "\n",
    "print(f'There are {len(dataset)} images in the dataset')\n",
    "        "
   ]
  },
  {
   "cell_type": "markdown",
   "id": "88652c2e",
   "metadata": {},
   "source": [
    "Let's now normalize the images, categorize the labels and split into training and validation sets"
   ]
  },
  {
   "cell_type": "code",
   "execution_count": 6,
   "id": "bbf90fe4",
   "metadata": {},
   "outputs": [],
   "source": [
    "dataset = np.array(dataset) / 255.0\n",
    "labels = to_categorical(labels)\n",
    "\n",
    "(train_X, valid_X, train_Y, valid_Y) = train_test_split(dataset, labels, test_size=0.2)"
   ]
  },
  {
   "cell_type": "markdown",
   "id": "c666957b",
   "metadata": {},
   "source": [
    "We now define a model similar to the one trained in the very first project, but working with only the first two classes of the dataset"
   ]
  },
  {
   "cell_type": "code",
   "execution_count": 7,
   "id": "be103706",
   "metadata": {},
   "outputs": [],
   "source": [
    "def create_model(input_dims, num_classes):\n",
    "    model = Sequential()\n",
    "    \n",
    "    model.add(Conv2D(32, (5, 5), activation='relu', input_shape=input_dims))\n",
    "    model.add(MaxPooling2D(pool_size=(5, 5)))\n",
    "    model.add(Conv2D(32, (5, 5),activation='relu'))\n",
    "    model.add(MaxPooling2D(pool_size=(5, 5)))\n",
    "    model.add(Flatten())  \n",
    "    model.add(Dense(64, activation='relu',))\n",
    "    model.add(Dropout(0.2))\n",
    "    model.add(Dense(num_classes, activation='softmax'))\n",
    "     \n",
    "    model.compile(loss='categorical_crossentropy', optimizer='rmsprop', metrics=['accuracy'])\n",
    "    \n",
    "    return model\n",
    "\n",
    "student = create_model(train_X[0,:].shape, train_Y.shape[1])"
   ]
  },
  {
   "cell_type": "markdown",
   "id": "7321f7cd",
   "metadata": {},
   "source": [
    "Ok, we are now ready to train the model. We will use an Early Stopping callback and will play a bit with the batch size"
   ]
  },
  {
   "cell_type": "code",
   "execution_count": 9,
   "id": "82dfe4a9",
   "metadata": {},
   "outputs": [
    {
     "name": "stdout",
     "output_type": "stream",
     "text": [
      "Epoch 1/100\n",
      "1/1 [==============================] - 1s 876ms/step - loss: 0.5986 - accuracy: 0.7778 - val_loss: 0.7425 - val_accuracy: 0.5938\n",
      "Epoch 2/100\n",
      "1/1 [==============================] - 1s 874ms/step - loss: 0.4996 - accuracy: 0.7857 - val_loss: 0.7400 - val_accuracy: 0.5938\n",
      "Epoch 3/100\n",
      "1/1 [==============================] - 1s 842ms/step - loss: 0.5036 - accuracy: 0.7857 - val_loss: 0.7079 - val_accuracy: 0.5938\n",
      "Epoch 4/100\n",
      "1/1 [==============================] - 1s 840ms/step - loss: 0.4915 - accuracy: 0.7857 - val_loss: 0.7396 - val_accuracy: 0.5938\n",
      "Epoch 5/100\n",
      "1/1 [==============================] - 1s 858ms/step - loss: 0.4910 - accuracy: 0.7857 - val_loss: 0.6933 - val_accuracy: 0.5938\n",
      "Epoch 6/100\n",
      "1/1 [==============================] - 1s 845ms/step - loss: 0.4668 - accuracy: 0.7857 - val_loss: 0.7462 - val_accuracy: 0.5938\n",
      "Epoch 7/100\n",
      "1/1 [==============================] - 1s 850ms/step - loss: 0.4592 - accuracy: 0.7857 - val_loss: 0.6496 - val_accuracy: 0.5938\n",
      "Epoch 8/100\n",
      "1/1 [==============================] - 1s 856ms/step - loss: 0.4582 - accuracy: 0.7857 - val_loss: 0.7497 - val_accuracy: 0.5938\n",
      "Epoch 9/100\n",
      "1/1 [==============================] - 1s 846ms/step - loss: 0.4572 - accuracy: 0.7857 - val_loss: 0.5824 - val_accuracy: 0.5938\n",
      "Epoch 10/100\n",
      "1/1 [==============================] - 1s 859ms/step - loss: 0.4855 - accuracy: 0.8016 - val_loss: 0.9299 - val_accuracy: 0.5938\n",
      "Epoch 11/100\n",
      "1/1 [==============================] - 1s 853ms/step - loss: 0.5241 - accuracy: 0.7857 - val_loss: 0.5989 - val_accuracy: 0.5938\n",
      "Epoch 12/100\n",
      "1/1 [==============================] - 1s 872ms/step - loss: 0.4759 - accuracy: 0.8016 - val_loss: 0.6983 - val_accuracy: 0.5938\n",
      "Epoch 13/100\n",
      "1/1 [==============================] - 1s 917ms/step - loss: 0.4330 - accuracy: 0.7857 - val_loss: 0.5689 - val_accuracy: 0.5938\n",
      "Epoch 14/100\n",
      "1/1 [==============================] - 1s 956ms/step - loss: 0.4107 - accuracy: 0.7857 - val_loss: 0.6622 - val_accuracy: 0.5938\n",
      "Epoch 15/100\n",
      "1/1 [==============================] - 1s 931ms/step - loss: 0.3902 - accuracy: 0.7857 - val_loss: 0.4973 - val_accuracy: 0.6250\n",
      "Epoch 16/100\n",
      "1/1 [==============================] - 1s 939ms/step - loss: 0.3854 - accuracy: 0.8254 - val_loss: 0.7261 - val_accuracy: 0.5938\n",
      "Epoch 17/100\n",
      "1/1 [==============================] - 1s 935ms/step - loss: 0.4102 - accuracy: 0.7857 - val_loss: 0.4537 - val_accuracy: 0.7500\n",
      "Epoch 18/100\n",
      "1/1 [==============================] - 1s 881ms/step - loss: 0.3600 - accuracy: 0.9048 - val_loss: 0.5919 - val_accuracy: 0.5938\n",
      "Epoch 19/100\n",
      "1/1 [==============================] - 1s 982ms/step - loss: 0.3492 - accuracy: 0.7857 - val_loss: 0.4108 - val_accuracy: 0.7500\n",
      "Epoch 20/100\n",
      "1/1 [==============================] - 1s 957ms/step - loss: 0.3213 - accuracy: 0.9048 - val_loss: 0.5917 - val_accuracy: 0.5938\n",
      "Epoch 21/100\n",
      "1/1 [==============================] - 1s 866ms/step - loss: 0.3394 - accuracy: 0.8016 - val_loss: 0.3479 - val_accuracy: 0.9688\n",
      "Epoch 22/100\n",
      "1/1 [==============================] - 1s 917ms/step - loss: 0.3433 - accuracy: 0.9365 - val_loss: 0.5708 - val_accuracy: 0.5938\n",
      "Epoch 23/100\n",
      "1/1 [==============================] - 1s 887ms/step - loss: 0.3189 - accuracy: 0.7937 - val_loss: 0.3203 - val_accuracy: 0.9062\n",
      "Epoch 24/100\n",
      "1/1 [==============================] - 1s 952ms/step - loss: 0.2704 - accuracy: 0.9683 - val_loss: 0.4873 - val_accuracy: 0.6250\n",
      "Epoch 25/100\n",
      "1/1 [==============================] - 1s 961ms/step - loss: 0.2561 - accuracy: 0.8413 - val_loss: 0.2536 - val_accuracy: 1.0000\n",
      "Epoch 26/100\n",
      "1/1 [==============================] - 1s 955ms/step - loss: 0.2677 - accuracy: 0.9762 - val_loss: 0.5168 - val_accuracy: 0.6250\n",
      "Epoch 27/100\n",
      "1/1 [==============================] - 1s 1s/step - loss: 0.2815 - accuracy: 0.8333 - val_loss: 0.3216 - val_accuracy: 0.7812\n",
      "Epoch 28/100\n",
      "1/1 [==============================] - 1s 883ms/step - loss: 0.2117 - accuracy: 0.8968 - val_loss: 0.2778 - val_accuracy: 0.8750\n",
      "Epoch 29/100\n",
      "1/1 [==============================] - 1s 998ms/step - loss: 0.1777 - accuracy: 0.9444 - val_loss: 0.1916 - val_accuracy: 0.9688\n",
      "Epoch 30/100\n",
      "1/1 [==============================] - 1s 950ms/step - loss: 0.1542 - accuracy: 0.9841 - val_loss: 0.3020 - val_accuracy: 0.7500\n",
      "Epoch 31/100\n",
      "1/1 [==============================] - 1s 981ms/step - loss: 0.1695 - accuracy: 0.8968 - val_loss: 0.1677 - val_accuracy: 1.0000\n",
      "Epoch 32/100\n",
      "1/1 [==============================] - 1s 984ms/step - loss: 0.1637 - accuracy: 0.9921 - val_loss: 0.2967 - val_accuracy: 0.7812\n",
      "Epoch 33/100\n",
      "1/1 [==============================] - 1s 939ms/step - loss: 0.1602 - accuracy: 0.9048 - val_loss: 0.1398 - val_accuracy: 1.0000\n",
      "Epoch 34/100\n",
      "1/1 [==============================] - 1s 873ms/step - loss: 0.1439 - accuracy: 1.0000 - val_loss: 0.2448 - val_accuracy: 0.8750\n",
      "Epoch 35/100\n",
      "1/1 [==============================] - 1s 871ms/step - loss: 0.1391 - accuracy: 0.9365 - val_loss: 0.1185 - val_accuracy: 1.0000\n",
      "Epoch 36/100\n",
      "1/1 [==============================] - 1s 929ms/step - loss: 0.1002 - accuracy: 1.0000 - val_loss: 0.1574 - val_accuracy: 0.9375\n",
      "Epoch 37/100\n",
      "1/1 [==============================] - 1s 896ms/step - loss: 0.0936 - accuracy: 0.9841 - val_loss: 0.1032 - val_accuracy: 1.0000\n",
      "Epoch 38/100\n",
      "1/1 [==============================] - 1s 983ms/step - loss: 0.0804 - accuracy: 0.9921 - val_loss: 0.1139 - val_accuracy: 0.9688\n",
      "Epoch 39/100\n",
      "1/1 [==============================] - 1s 949ms/step - loss: 0.0717 - accuracy: 1.0000 - val_loss: 0.0810 - val_accuracy: 1.0000\n",
      "Epoch 40/100\n",
      "1/1 [==============================] - 1s 950ms/step - loss: 0.0870 - accuracy: 0.9841 - val_loss: 0.1696 - val_accuracy: 0.9375\n",
      "Epoch 41/100\n",
      "1/1 [==============================] - 1s 956ms/step - loss: 0.0965 - accuracy: 0.9603 - val_loss: 0.0670 - val_accuracy: 1.0000\n",
      "Epoch 42/100\n",
      "1/1 [==============================] - 1s 897ms/step - loss: 0.0622 - accuracy: 1.0000 - val_loss: 0.1043 - val_accuracy: 0.9688\n",
      "Epoch 43/100\n",
      "1/1 [==============================] - 1s 993ms/step - loss: 0.0675 - accuracy: 0.9841 - val_loss: 0.0562 - val_accuracy: 1.0000\n",
      "Epoch 44/100\n",
      "1/1 [==============================] - 1s 941ms/step - loss: 0.0553 - accuracy: 1.0000 - val_loss: 0.0819 - val_accuracy: 1.0000\n",
      "Epoch 45/100\n",
      "1/1 [==============================] - 1s 892ms/step - loss: 0.0493 - accuracy: 0.9921 - val_loss: 0.0478 - val_accuracy: 1.0000\n",
      "Epoch 46/100\n",
      "1/1 [==============================] - 1s 952ms/step - loss: 0.0517 - accuracy: 1.0000 - val_loss: 0.0771 - val_accuracy: 1.0000\n",
      "Epoch 47/100\n",
      "1/1 [==============================] - 1s 968ms/step - loss: 0.0433 - accuracy: 1.0000 - val_loss: 0.0403 - val_accuracy: 1.0000\n",
      "Epoch 48/100\n",
      "1/1 [==============================] - 1s 885ms/step - loss: 0.0359 - accuracy: 1.0000 - val_loss: 0.0486 - val_accuracy: 1.0000\n",
      "Epoch 49/100\n",
      "1/1 [==============================] - 1s 873ms/step - loss: 0.0305 - accuracy: 1.0000 - val_loss: 0.0311 - val_accuracy: 1.0000\n",
      "Epoch 50/100\n",
      "1/1 [==============================] - 1s 835ms/step - loss: 0.0315 - accuracy: 1.0000 - val_loss: 0.0376 - val_accuracy: 1.0000\n",
      "Epoch 51/100\n",
      "1/1 [==============================] - 1s 954ms/step - loss: 0.0240 - accuracy: 1.0000 - val_loss: 0.0262 - val_accuracy: 1.0000\n",
      "Epoch 52/100\n",
      "1/1 [==============================] - 1s 913ms/step - loss: 0.0232 - accuracy: 1.0000 - val_loss: 0.0358 - val_accuracy: 1.0000\n",
      "Epoch 53/100\n",
      "1/1 [==============================] - 1s 879ms/step - loss: 0.0203 - accuracy: 1.0000 - val_loss: 0.0206 - val_accuracy: 1.0000\n",
      "Epoch 54/100\n",
      "1/1 [==============================] - 1s 868ms/step - loss: 0.0178 - accuracy: 1.0000 - val_loss: 0.0274 - val_accuracy: 1.0000\n",
      "Epoch 55/100\n",
      "1/1 [==============================] - 1s 868ms/step - loss: 0.0203 - accuracy: 1.0000 - val_loss: 0.0166 - val_accuracy: 1.0000\n",
      "Epoch 56/100\n",
      "1/1 [==============================] - 1s 873ms/step - loss: 0.0179 - accuracy: 1.0000 - val_loss: 0.0248 - val_accuracy: 1.0000\n",
      "Epoch 57/100\n",
      "1/1 [==============================] - 1s 846ms/step - loss: 0.0133 - accuracy: 1.0000 - val_loss: 0.0145 - val_accuracy: 1.0000\n",
      "Epoch 58/100\n",
      "1/1 [==============================] - 1s 890ms/step - loss: 0.0123 - accuracy: 1.0000 - val_loss: 0.0194 - val_accuracy: 1.0000\n"
     ]
    },
    {
     "name": "stdout",
     "output_type": "stream",
     "text": [
      "Epoch 59/100\n",
      "1/1 [==============================] - 1s 922ms/step - loss: 0.0139 - accuracy: 1.0000 - val_loss: 0.0112 - val_accuracy: 1.0000\n",
      "Epoch 60/100\n",
      "1/1 [==============================] - 1s 898ms/step - loss: 0.0103 - accuracy: 1.0000 - val_loss: 0.0142 - val_accuracy: 1.0000\n",
      "Epoch 61/100\n",
      "1/1 [==============================] - 1s 885ms/step - loss: 0.0103 - accuracy: 1.0000 - val_loss: 0.0090 - val_accuracy: 1.0000\n",
      "Epoch 62/100\n",
      "1/1 [==============================] - 1s 864ms/step - loss: 0.0088 - accuracy: 1.0000 - val_loss: 0.0110 - val_accuracy: 1.0000\n",
      "Epoch 63/100\n",
      "1/1 [==============================] - 1s 860ms/step - loss: 0.0087 - accuracy: 1.0000 - val_loss: 0.0074 - val_accuracy: 1.0000\n",
      "Epoch 64/100\n",
      "1/1 [==============================] - 1s 839ms/step - loss: 0.0099 - accuracy: 1.0000 - val_loss: 0.0136 - val_accuracy: 1.0000\n",
      "Epoch 65/100\n",
      "1/1 [==============================] - 1s 847ms/step - loss: 0.0073 - accuracy: 1.0000 - val_loss: 0.0065 - val_accuracy: 1.0000\n",
      "Epoch 66/100\n",
      "1/1 [==============================] - 1s 864ms/step - loss: 0.0048 - accuracy: 1.0000 - val_loss: 0.0068 - val_accuracy: 1.0000\n",
      "Epoch 67/100\n",
      "1/1 [==============================] - 1s 925ms/step - loss: 0.0057 - accuracy: 1.0000 - val_loss: 0.0056 - val_accuracy: 1.0000\n",
      "Epoch 68/100\n",
      "1/1 [==============================] - 1s 910ms/step - loss: 0.0039 - accuracy: 1.0000 - val_loss: 0.0071 - val_accuracy: 1.0000\n",
      "Epoch 69/100\n",
      "1/1 [==============================] - 1s 859ms/step - loss: 0.0037 - accuracy: 1.0000 - val_loss: 0.0049 - val_accuracy: 1.0000\n",
      "Epoch 70/100\n",
      "1/1 [==============================] - 1s 856ms/step - loss: 0.0047 - accuracy: 1.0000 - val_loss: 0.0060 - val_accuracy: 1.0000\n",
      "Epoch 71/100\n",
      "1/1 [==============================] - 1s 841ms/step - loss: 0.0037 - accuracy: 1.0000 - val_loss: 0.0046 - val_accuracy: 1.0000\n",
      "Epoch 72/100\n",
      "1/1 [==============================] - 1s 868ms/step - loss: 0.0031 - accuracy: 1.0000 - val_loss: 0.0039 - val_accuracy: 1.0000\n",
      "Epoch 73/100\n",
      "1/1 [==============================] - 1s 969ms/step - loss: 0.0039 - accuracy: 1.0000 - val_loss: 0.0062 - val_accuracy: 1.0000\n",
      "Epoch 74/100\n",
      "1/1 [==============================] - 1s 867ms/step - loss: 0.0056 - accuracy: 1.0000 - val_loss: 0.0033 - val_accuracy: 1.0000\n",
      "Epoch 75/100\n",
      "1/1 [==============================] - 1s 891ms/step - loss: 0.0091 - accuracy: 1.0000 - val_loss: 0.0346 - val_accuracy: 1.0000\n",
      "Epoch 76/100\n",
      "1/1 [==============================] - 1s 885ms/step - loss: 0.0213 - accuracy: 1.0000 - val_loss: 0.0080 - val_accuracy: 1.0000\n",
      "Epoch 77/100\n",
      "1/1 [==============================] - 1s 841ms/step - loss: 0.0156 - accuracy: 1.0000 - val_loss: 0.0178 - val_accuracy: 1.0000\n",
      "Epoch 78/100\n",
      "1/1 [==============================] - 1s 849ms/step - loss: 0.0166 - accuracy: 1.0000 - val_loss: 0.0069 - val_accuracy: 1.0000\n",
      "Epoch 79/100\n",
      "1/1 [==============================] - 1s 862ms/step - loss: 0.0110 - accuracy: 1.0000 - val_loss: 0.0039 - val_accuracy: 1.0000\n",
      "Epoch 80/100\n",
      "1/1 [==============================] - 1s 865ms/step - loss: 0.0026 - accuracy: 1.0000 - val_loss: 0.0027 - val_accuracy: 1.0000\n",
      "Epoch 81/100\n",
      "1/1 [==============================] - 1s 878ms/step - loss: 0.0021 - accuracy: 1.0000 - val_loss: 0.0020 - val_accuracy: 1.0000\n",
      "Epoch 82/100\n",
      "1/1 [==============================] - 1s 846ms/step - loss: 0.0017 - accuracy: 1.0000 - val_loss: 0.0017 - val_accuracy: 1.0000\n",
      "Epoch 83/100\n",
      "1/1 [==============================] - 1s 880ms/step - loss: 0.0017 - accuracy: 1.0000 - val_loss: 0.0015 - val_accuracy: 1.0000\n",
      "Epoch 84/100\n",
      "1/1 [==============================] - 1s 879ms/step - loss: 0.0016 - accuracy: 1.0000 - val_loss: 0.0014 - val_accuracy: 1.0000\n",
      "Epoch 85/100\n",
      "1/1 [==============================] - 1s 868ms/step - loss: 0.0011 - accuracy: 1.0000 - val_loss: 0.0015 - val_accuracy: 1.0000\n",
      "Epoch 86/100\n",
      "1/1 [==============================] - 1s 864ms/step - loss: 0.0014 - accuracy: 1.0000 - val_loss: 0.0012 - val_accuracy: 1.0000\n",
      "Epoch 87/100\n",
      "1/1 [==============================] - 1s 866ms/step - loss: 9.9603e-04 - accuracy: 1.0000 - val_loss: 0.0011 - val_accuracy: 1.0000\n",
      "Epoch 88/100\n",
      "1/1 [==============================] - 1s 874ms/step - loss: 0.0012 - accuracy: 1.0000 - val_loss: 0.0012 - val_accuracy: 1.0000\n",
      "Epoch 89/100\n",
      "1/1 [==============================] - 1s 844ms/step - loss: 8.7902e-04 - accuracy: 1.0000 - val_loss: 0.0010 - val_accuracy: 1.0000\n",
      "Epoch 90/100\n",
      "1/1 [==============================] - 1s 877ms/step - loss: 7.5435e-04 - accuracy: 1.0000 - val_loss: 0.0010 - val_accuracy: 1.0000\n",
      "Epoch 91/100\n",
      "1/1 [==============================] - 1s 858ms/step - loss: 9.6682e-04 - accuracy: 1.0000 - val_loss: 8.9181e-04 - val_accuracy: 1.0000\n",
      "Epoch 92/100\n",
      "1/1 [==============================] - 1s 866ms/step - loss: 5.6504e-04 - accuracy: 1.0000 - val_loss: 8.0606e-04 - val_accuracy: 1.0000\n",
      "Epoch 93/100\n",
      "1/1 [==============================] - 1s 868ms/step - loss: 7.0665e-04 - accuracy: 1.0000 - val_loss: 8.1290e-04 - val_accuracy: 1.0000\n",
      "Epoch 94/100\n",
      "1/1 [==============================] - 1s 876ms/step - loss: 0.0011 - accuracy: 1.0000 - val_loss: 7.2153e-04 - val_accuracy: 1.0000\n",
      "Epoch 95/100\n",
      "1/1 [==============================] - 1s 857ms/step - loss: 6.9449e-04 - accuracy: 1.0000 - val_loss: 7.3136e-04 - val_accuracy: 1.0000\n",
      "Epoch 96/100\n",
      "1/1 [==============================] - 1s 834ms/step - loss: 7.0007e-04 - accuracy: 1.0000 - val_loss: 6.1530e-04 - val_accuracy: 1.0000\n",
      "Epoch 97/100\n",
      "1/1 [==============================] - 1s 868ms/step - loss: 4.8037e-04 - accuracy: 1.0000 - val_loss: 6.2831e-04 - val_accuracy: 1.0000\n",
      "Restoring model weights from the end of the best epoch.\n",
      "Epoch 00097: early stopping\n"
     ]
    }
   ],
   "source": [
    "IMAGE_SIZE = (134,128)\n",
    "BS = 128\n",
    "EPOCHS = 100\n",
    "\n",
    "es = EarlyStopping(monitor='val_loss', patience=8, min_delta=0.001, verbose=1,\n",
    "                   restore_best_weights=True, mode='min')\n",
    "\n",
    "history = student.fit(train_X, train_Y, batch_size=BS, epochs=EPOCHS, callbacks=[es],\n",
    "                      validation_data=(valid_X, valid_Y))"
   ]
  },
  {
   "cell_type": "markdown",
   "id": "957e0ec2",
   "metadata": {},
   "source": [
    "Let's now plot the loss and accuracy curves, and compute the accuracy on the validation data"
   ]
  },
  {
   "cell_type": "code",
   "execution_count": 10,
   "id": "1968e2cd",
   "metadata": {},
   "outputs": [
    {
     "data": {
      "image/png": "[encoded data removed]",
      "text/plain": [
       "<Figure size 720x360 with 2 Axes>"
      ]
     },
     "metadata": {
      "needs_background": "light"
     },
     "output_type": "display_data"
    }
   ],
   "source": [
    "plot_history(history.history)\n",
    "plt.show()"
   ]
  },
  {
   "cell_type": "code",
   "execution_count": 11,
   "id": "da6b6ecd",
   "metadata": {},
   "outputs": [
    {
     "name": "stdout",
     "output_type": "stream",
     "text": [
      "Accuracy on input dataset: 100.00%\n"
     ]
    }
   ],
   "source": [
    "pred = student.predict(valid_X)\n",
    "acc = np.sum(np.argmax(pred, axis=1) == np.argmax(valid_Y, axis=1)) / len(valid_Y)\n",
    "print(f\"Accuracy on input dataset: {acc * 100:.2f}%\")"
   ]
  },
  {
   "cell_type": "markdown",
   "id": "d9a2fbea",
   "metadata": {},
   "source": [
    "As expected, the accuracy is very high on the simple dataset with only two classes. Let's proceed by creating some corrupted inputs, using FGSM method."
   ]
  },
  {
   "cell_type": "code",
   "execution_count": 12,
   "id": "0ffe883a",
   "metadata": {},
   "outputs": [],
   "source": [
    "EPSILON = 0.06\n",
    "\n",
    "valid_X_fgsm = fast_gradient_method(student, valid_X, EPSILON, np.inf)"
   ]
  },
  {
   "cell_type": "markdown",
   "id": "a5bbfd51",
   "metadata": {},
   "source": [
    "Finally, we compute the accuracy of the model on the corrupted data"
   ]
  },
  {
   "cell_type": "code",
   "execution_count": 13,
   "id": "ba116415",
   "metadata": {},
   "outputs": [
    {
     "name": "stdout",
     "output_type": "stream",
     "text": [
      "Accuracy on fgsm-corrupted dataset: 56.25%\n"
     ]
    }
   ],
   "source": [
    "pred_fgsm = student.predict(valid_X_fgsm)\n",
    "acc_fgsm = np.sum(np.argmax(pred_fgsm, axis=1) == np.argmax(valid_Y, axis=1)) / len(valid_Y)\n",
    "print(f\"Accuracy on fgsm-corrupted dataset: {acc_fgsm * 100:.2f}%\")"
   ]
  }
 ],
 "metadata": {
  "kernelspec": {
   "display_name": "adv",
   "language": "python",
   "name": "adv"
  },
  "language_info": {
   "codemirror_mode": {
    "name": "ipython",
    "version": 3
   },
   "file_extension": ".py",
   "mimetype": "text/x-python",
   "name": "python",
   "nbconvert_exporter": "python",
   "pygments_lexer": "ipython3",
   "version": "3.9.9"
  },
  "toc": {
   "base_numbering": 1,
   "nav_menu": {},
   "number_sections": true,
   "sideBar": true,
   "skip_h1_title": false,
   "title_cell": "Table of Contents",
   "title_sidebar": "Contents",
   "toc_cell": false,
   "toc_position": {},
   "toc_section_display": true,
   "toc_window_display": false
  }
 },
 "nbformat": 4,
 "nbformat_minor": 5
}
