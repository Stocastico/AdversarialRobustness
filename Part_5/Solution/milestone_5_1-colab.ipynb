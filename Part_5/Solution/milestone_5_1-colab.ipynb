{
 "cells": [
  {
   "cell_type": "markdown",
   "id": "f9c44ab9",
   "metadata": {},
   "source": [
    "# Defensive Distillation\n",
    "## Milestone-1\n",
    "\n",
    "__Objective__: Mitigate the model with **untargeted attacks** using **Defensive Distillation** method. You will prepare a training dataset that will contain only two classes (i.e. 0 and 1) because defensive distillation method has a long runtime. You can increase the number of classes used if the computing environment you are using allows more significant amounts of data to run. Since implementing the Defensive distillation method is complex, I am sharing the Distillation class in this study. Your task is to create a more resistant model to attack using this class.\n",
    "\n",
    "In this milestone, you will only build a model using `get_model` method. You will apply defensive distillation in Milestone 2. \n",
    "\n",
    "__Workflow__:\n",
    "1.  Load the `Traffic Sign` dataset and examine its structure.\n",
    "    - Download `tsrd-train` from http://www.nlpr.ia.ac.cn/pal/trafficdata/recognition.html.\n",
    "    - Take a closer look at the data inspecting it's size, shape, and quantity.\n",
    "    - View some random samples using either OpenCV or Matplotlib (or others) of the handwritten digits and observe the complexity of the images. Do you have any issues identify these written numbers?\n",
    "2. Using `numpy` or other libraries prepare your dataset for training\n",
    "    - Ensure the format or shape of the data is appropriate for input into your model (one-hot-encoding is needed for the labels)\n",
    "    - Ensure data types are correct and that data is normalized. \n",
    "    - Use only images belongs to class `1` and `2`\n",
    "3. Create and build a **student model** without using `Distiller` class.\n",
    "    - Train the model using training dataset\n",
    "    - Plot training history using `plot_keras_history`'s `plot_history` method.\n",
    "4. Generate malicious inputs\n",
    "   - FGSM attack\n",
    "      - Generate malicious inputs based on testX and FGSM attack using CleverHans' `fast_gradient_method` class with 0.03 epsilon value\n",
    "      - Evaluate the prediction accuracy of the model using sklearn's `accuracy_score` method with malicious inputs\n",
    "\n",
    "__Deliverable__:\n",
    "\n",
    "The deliverable is a Jupyter Notebook documenting your workflow."
   ]
  },
  {
   "cell_type": "code",
   "execution_count": 1,
   "id": "GXsDgfzsRXS1",
   "metadata": {
    "id": "GXsDgfzsRXS1"
   },
   "outputs": [],
   "source": [
    "!pip install -q cleverhans\n",
    "!pip install -q plot_keras_history"
   ]
  },
  {
   "cell_type": "code",
   "execution_count": 2,
   "id": "3bb35b3f",
   "metadata": {
    "id": "3bb35b3f"
   },
   "outputs": [],
   "source": [
    "import tensorflow as tf\n",
    "#tf.compat.v1.disable_eager_execution()\n",
    "\n",
    "from keras.models import Sequential\n",
    "from keras.layers import Conv2D, MaxPooling2D\n",
    "from keras.layers import Dropout, Flatten, Dense\n",
    "\n",
    "from plot_keras_history import plot_history\n",
    "import matplotlib.pyplot as plt\n",
    "from tensorflow.keras.preprocessing.image import ImageDataGenerator\n",
    "from keras.callbacks import ModelCheckpoint\n",
    "from sklearn.model_selection import train_test_split\n",
    "from sklearn.metrics import classification_report,confusion_matrix,ConfusionMatrixDisplay\n",
    "from sklearn.metrics import plot_confusion_matrix,accuracy_score\n",
    "\n",
    "import pandas as pd\n",
    "from glob import glob\n",
    "from tqdm.notebook import tqdm\n",
    "from tensorflow.keras.callbacks import EarlyStopping\n",
    "import cv2\n",
    "from keras.preprocessing.image import  img_to_array\n",
    "import os\n",
    "import numpy as np\n",
    "from tensorflow.keras.utils import to_categorical\n",
    "import matplotlib.patches as patches\n",
    "import keras\n",
    "import tensorflow as tf\n",
    "\n",
    "import seaborn as sns\n",
    "\n",
    "from cleverhans.tf2.attacks.fast_gradient_method import fast_gradient_method\n",
    "\n",
    "np.random.seed(10)\n",
    "\n",
    "COLAB_ENABLED = False"
   ]
  },
  {
   "cell_type": "code",
   "execution_count": 3,
   "id": "cjYBugglQ8KR",
   "metadata": {
    "colab": {
     "base_uri": "https://localhost:8080/"
    },
    "id": "cjYBugglQ8KR",
    "outputId": "17a89ee0-d7fb-419c-d6e1-06a24615bd48"
   },
   "outputs": [
    {
     "name": "stdout",
     "output_type": "stream",
     "text": [
      "Drive already mounted at /content/gdrive; to attempt to forcibly remount, call drive.mount(\"/content/gdrive\", force_remount=True).\n"
     ]
    }
   ],
   "source": [
    "if COLAB_ENABLED:\n",
    "    from google.colab import drive\n",
    "    drive.mount(\"/content/gdrive\")\n",
    "\n",
    "    DS_PATH = '/content/gdrive/My Drive/ds/dataset.npz'"
   ]
  },
  {
   "cell_type": "code",
   "execution_count": 4,
   "id": "7937ea71",
   "metadata": {
    "id": "7937ea71"
   },
   "outputs": [],
   "source": [
    "IMAGE_PATH_TRAIN = '/Users/ozgur/Downloads/tsrd-train/'\n",
    "COL_NAMES = ['filename','f1','f2','x1','y1','x2','y2','label']\n",
    "IMAGE_SIZE = (134,128)\n",
    "EPOCHS = 2000\n",
    "BS = 500\n",
    "STUDENT_MODEL_MULTIPLICATION = 0.5\n",
    "TEACHER_MODEL_MULTIPLICATION = 10.0"
   ]
  },
  {
   "cell_type": "code",
   "execution_count": 6,
   "id": "3fa41b15",
   "metadata": {
    "id": "3fa41b15"
   },
   "outputs": [],
   "source": [
    "def get_model(input_shape, num_of_class, multiplication_factor, model_name):\n",
    "    model = Sequential()\n",
    "    model.add(Conv2D(32*multiplication_factor, (5, 5),activation='relu', input_shape=input_shape))\n",
    "    model.add(MaxPooling2D(pool_size=(5, 5)))\n",
    "    \n",
    "    model.add(Conv2D(32*multiplication_factor, (5, 5),activation='relu'))\n",
    "    model.add(MaxPooling2D(pool_size=(5, 5)))\n",
    "    \n",
    "    model.add(Flatten())  \n",
    "    model.add(Dense(np.int32(64*multiplication_factor), activation='relu',))\n",
    "    model.add(Dropout(0.2))\n",
    "    model.add(Dense(num_of_class, activation='softmax'))\n",
    "     \n",
    "    model.compile(loss='categorical_crossentropy',\n",
    "                  optimizer='adam',\n",
    "                  metrics=['accuracy'])\n",
    "    \n",
    "    return model"
   ]
  },
  {
   "cell_type": "code",
   "execution_count": 7,
   "id": "dc3ff047",
   "metadata": {
    "colab": {
     "base_uri": "https://localhost:8080/"
    },
    "id": "dc3ff047",
    "outputId": "34c681c1-5687-4808-ed7e-028d0f6f447f"
   },
   "outputs": [
    {
     "name": "stdout",
     "output_type": "stream",
     "text": [
      "Total dataset size: 158\n"
     ]
    }
   ],
   "source": [
    "# Step 1\n",
    "data = []\n",
    "labels = []\n",
    "\n",
    "df = pd.read_csv('TsignRecgTrain4170Annotation.txt',names=COL_NAMES,sep=';', index_col=False)\n",
    "df = df.query('label <= 1')\n",
    "\n",
    "for index, row in df.iterrows():\n",
    "    fname = IMAGE_PATH_TRAIN + row['filename']\n",
    "    image = cv2.imread(fname)\n",
    "    image = cv2.resize(image, IMAGE_SIZE)\n",
    "    image = img_to_array(image)\n",
    "    data.append(image)\n",
    "    \n",
    "    label = df.query(\"filename=='\" + os.path.split(fname)[1] + \"'\").label.values[0]\n",
    "    labels.append(label)\n",
    "    \n",
    "data = np.array(data) / 255.0\n",
    "labels = to_categorical(labels)\n",
    "\n",
    "print(\"Total dataset size:\", data.shape[0])\n",
    "(trainX, testX, trainY, testY) = train_test_split(data, labels,\n",
    "\ttest_size=0.20, random_state=42)"
   ]
  },
  {
   "cell_type": "markdown",
   "id": "93e8ffc9",
   "metadata": {
    "id": "93e8ffc9"
   },
   "source": [
    "## Attack to the undefended model"
   ]
  },
  {
   "cell_type": "code",
   "execution_count": 9,
   "id": "cb20aa39",
   "metadata": {
    "colab": {
     "base_uri": "https://localhost:8080/"
    },
    "id": "cb20aa39",
    "outputId": "94c57d07-a5af-4978-b394-21de54382183"
   },
   "outputs": [
    {
     "name": "stdout",
     "output_type": "stream",
     "text": [
      "Restoring model weights from the end of the best epoch: 229.\n",
      "Epoch 00249: early stopping\n"
     ]
    }
   ],
   "source": [
    "student_model_wo_distill = get_model(data[0,:].shape, labels.shape[1], \n",
    "                                     multiplication_factor=STUDENT_MODEL_MULTIPLICATION,\n",
    "                                     model_name='Student_wo_distill')\n",
    "\n",
    "es_wo_distill = EarlyStopping(monitor='val_loss', \n",
    "                   patience=20, \n",
    "                   min_delta=0.0001,\n",
    "                   verbose=1,\n",
    "                   restore_best_weights=True,\n",
    "                   mode='min')\n",
    "\n",
    "hist_wo_distill = student_model_wo_distill.fit(trainX,trainY,\n",
    "                             batch_size=BS,\n",
    "                             epochs=EPOCHS,\n",
    "                             verbose=0,\n",
    "                             callbacks=[es_wo_distill],\n",
    "                             validation_data=(testX, testY))"
   ]
  },
  {
   "cell_type": "code",
   "execution_count": 10,
   "id": "6dd08000",
   "metadata": {
    "colab": {
     "base_uri": "https://localhost:8080/",
     "height": 385
    },
    "id": "6dd08000",
    "outputId": "06ee6e5f-e53b-4eaf-c995-1e3f8c9b3f06"
   },
   "outputs": [
    {
     "data": {
      "image/png": "[encoded data removed]",
      "text/plain": [
       "<Figure size 720x360 with 2 Axes>"
      ]
     },
     "metadata": {
      "needs_background": "light"
     },
     "output_type": "display_data"
    }
   ],
   "source": [
    "plot_history(hist_wo_distill.history)\n",
    "plt.show()"
   ]
  },
  {
   "cell_type": "code",
   "execution_count": 11,
   "id": "9de6f284",
   "metadata": {
    "colab": {
     "base_uri": "https://localhost:8080/"
    },
    "id": "9de6f284",
    "outputId": "eea09805-4705-4218-97b1-b5a1becc7fe4"
   },
   "outputs": [
    {
     "name": "stdout",
     "output_type": "stream",
     "text": [
      "Accuracy on benign test examples: 100.0%\n"
     ]
    }
   ],
   "source": [
    "predictions = student_model_wo_distill.predict(testX)\n",
    "accuracy = np.sum(np.argmax(predictions, axis=1) == np.argmax(testY, axis=1)) / len(testY)\n",
    "print(\"Accuracy on benign test examples: {}%\".format(accuracy * 100))"
   ]
  },
  {
   "cell_type": "code",
   "execution_count": 12,
   "id": "fcbd9fd9",
   "metadata": {
    "id": "fcbd9fd9"
   },
   "outputs": [],
   "source": [
    "# Step 3: Generate adversarial test examples with **targeted Fast Gradient Sign Method** attack\n",
    "ATTACK_POWER = 0.03\n",
    "\n",
    "logits_model_wo_distill = tf.keras.Model(student_model_wo_distill.input, student_model_wo_distill.layers[-1].output)\n",
    "\n",
    "x_test_adv_fgsm = fast_gradient_method(logits_model_wo_distill, \n",
    "                                       testX,clip_min = 0.0, clip_max=1.0,\n",
    "                                       eps=ATTACK_POWER, norm=np.inf)"
   ]
  },
  {
   "cell_type": "code",
   "execution_count": 13,
   "id": "2fd7a86a",
   "metadata": {
    "colab": {
     "base_uri": "https://localhost:8080/"
    },
    "id": "2fd7a86a",
    "outputId": "dd173fa5-24c1-48ed-f636-f545e15f765d"
   },
   "outputs": [
    {
     "name": "stdout",
     "output_type": "stream",
     "text": [
      "Accuracy:0.6875\n"
     ]
    }
   ],
   "source": [
    "y_adv_pred_fgsm = student_model_wo_distill.predict(x_test_adv_fgsm)\n",
    "acc = accuracy_score(testY.argmax(axis=1), y_adv_pred_fgsm.argmax(axis=1))\n",
    "print('Accuracy:{}'.format(acc))"
   ]
  },
  {
   "cell_type": "code",
   "execution_count": 13,
   "id": "dd0caa30",
   "metadata": {
    "id": "dd0caa30"
   },
   "outputs": [],
   "source": []
  }
 ],
 "metadata": {
  "accelerator": "GPU",
  "colab": {
   "name": "milestone-5-1.ipynb",
   "provenance": []
  },
  "kernelspec": {
   "display_name": "Python 3",
   "language": "python",
   "name": "python3"
  },
  "language_info": {
   "codemirror_mode": {
    "name": "ipython",
    "version": 3
   },
   "file_extension": ".py",
   "mimetype": "text/x-python",
   "name": "python",
   "nbconvert_exporter": "python",
   "pygments_lexer": "ipython3",
   "version": "3.9.9"
  }
 },
 "nbformat": 4,
 "nbformat_minor": 5
}
