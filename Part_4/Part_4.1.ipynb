{
 "cells": [
  {
   "cell_type": "code",
   "execution_count": 2,
   "id": "ed535f0c",
   "metadata": {},
   "outputs": [],
   "source": [
    "# Usual imports\n",
    "import numpy as np\n",
    "import pandas as pd\n",
    "from sklearn.model_selection import train_test_split\n",
    "from matplotlib import pyplot as plt\n",
    "plt.rcParams[\"figure.figsize\"] = (18, 10)\n",
    "\n",
    "# OpenCV\n",
    "import cv2\n",
    "\n",
    "# Keras\n",
    "from tensorflow.keras.models import load_model\n",
    "from tensorflow.keras.preprocessing.image import img_to_array\n",
    "from tensorflow.keras.utils import to_categorical\n",
    "\n",
    "# Cleverhans\n",
    "from cleverhans.tf2.attacks.fast_gradient_method import fast_gradient_method\n",
    "\n",
    "# Other modules\n",
    "from pathlib import Path\n",
    "from glob import glob"
   ]
  },
  {
   "cell_type": "markdown",
   "id": "2aa96dff",
   "metadata": {},
   "source": [
    "Similar to what we did in Project 1, we will now define some constant for the path to annotations and images"
   ]
  },
  {
   "cell_type": "code",
   "execution_count": 3,
   "id": "f9ca14f4",
   "metadata": {},
   "outputs": [],
   "source": [
    "DATA_FOLDER = Path('../data')\n",
    "IMG_FOLDER = Path(DATA_FOLDER / 'tsrd-train')\n",
    "ANNOTATIONS = Path(DATA_FOLDER / 'TsignRecgTrain4170Annotation.txt')\n",
    "COL_NAMES = ['filename','width','height','x1','y1','x2','y2','label']\n",
    "MODEL_FOLDER = Path('../Part 1')\n",
    "MODEL = Path(MODEL_FOLDER / 'chinese_traffic_sign_classifier_v1.h5')"
   ]
  },
  {
   "cell_type": "code",
   "execution_count": null,
   "id": "623d33ca",
   "metadata": {},
   "outputs": [],
   "source": []
  }
 ],
 "metadata": {
  "kernelspec": {
   "display_name": "adv",
   "language": "python",
   "name": "adv"
  },
  "language_info": {
   "codemirror_mode": {
    "name": "ipython",
    "version": 3
   },
   "file_extension": ".py",
   "mimetype": "text/x-python",
   "name": "python",
   "nbconvert_exporter": "python",
   "pygments_lexer": "ipython3",
   "version": "3.9.9"
  },
  "toc": {
   "base_numbering": 1,
   "nav_menu": {},
   "number_sections": true,
   "sideBar": true,
   "skip_h1_title": false,
   "title_cell": "Table of Contents",
   "title_sidebar": "Contents",
   "toc_cell": false,
   "toc_position": {},
   "toc_section_display": true,
   "toc_window_display": false
  }
 },
 "nbformat": 4,
 "nbformat_minor": 5
}
