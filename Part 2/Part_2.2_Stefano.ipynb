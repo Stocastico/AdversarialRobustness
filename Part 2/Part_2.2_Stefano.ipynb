{
 "cells": [
  {
   "cell_type": "code",
   "execution_count": 1,
   "id": "8f24df5c",
   "metadata": {},
   "outputs": [],
   "source": [
    "# Usual imports\n",
    "import numpy as np\n",
    "from sklearn.metrics import confusion_matrix, ConfusionMatrixDisplay\n",
    "import pandas as pd\n",
    "from matplotlib import pyplot as plt\n",
    "plt.rcParams[\"figure.figsize\"] = (18, 10)\n",
    "import seaborn as sns\n",
    "sns.set()\n",
    "import tensorflow as tf"
   ]
  },
  {
   "cell_type": "markdown",
   "id": "7831c378",
   "metadata": {},
   "source": [
    "We start by loading all the data saved after milestone 2.1"
   ]
  },
  {
   "cell_type": "code",
   "execution_count": null,
   "id": "821dc9c7",
   "metadata": {},
   "outputs": [],
   "source": [
    "data = np.load('../data/chinese_traffic_sign_dataset_2.npz')\n",
    "\n",
    "# Put everything in different variables (don't keep predictions and adversarial images in lists)\n",
    "train_X = data['train_X']\n",
    "valid_X = data['valid_X']\n",
    "train_Y = data['train_Y']\n",
    "valid_Y = data['valid_Y']\n",
    "pred_base = data['pred_base']\n",
    "pred_noise = data['pred_noise']\n",
    "pred_fgsm = data['pred_fgsm']\n",
    "pred_pgd = data['pred_pgd']\n",
    "valid_X_uniform_noise = data['valid_X_uniform_noise']\n",
    "valid_X_fgsm = data['valid_X_fgsm']\n",
    "valid_X_pgd = data['valid_X_pgd']"
   ]
  },
  {
   "cell_type": "markdown",
   "id": "0f18441f",
   "metadata": {},
   "source": [
    "### Input dataset\n",
    "\n",
    "We start by plotting the confusion matrix and the count plot for the validation images and the prediction of our model"
   ]
  },
  {
   "cell_type": "code",
   "execution_count": null,
   "id": "dbe9a79a",
   "metadata": {},
   "outputs": [],
   "source": [
    "cm_base = confusion_matrix(valid_Y.argmax(axis=1), pred_base.argmax(axis=1))\n",
    "fig, axes = plt.subplots()\n",
    "disp = ConfusionMatrixDisplay(confusion_matrix=cm_base)\n",
    "disp.plot(ax=axes, cmap = 'cool', include_values=False)\n",
    "axes.axis('off')"
   ]
  },
  {
   "cell_type": "code",
   "execution_count": null,
   "id": "7d79904e",
   "metadata": {},
   "outputs": [],
   "source": [
    "df_base = pd.DataFrame({'Valid_data':valid_Y.argmax(axis=1), 'Predictions':pred_base.argmax(axis=1)})\n",
    "fig, axes = plt.subplots(1, 2)\n",
    "sns.countplot(x='Valid_data',data=df_base, ax=axes[0])\n",
    "axes[0].set_title('True labels')\n",
    "axes[0].axis('off')\n",
    "\n",
    "sns.countplot(x='Predictions',data=df_base, ax=axes[1])\n",
    "axes[1].set_title('Predicted labels')\n",
    "axes[1].axis('off')\n",
    "\n",
    "plt.show()"
   ]
  },
  {
   "cell_type": "markdown",
   "id": "b0028f97",
   "metadata": {},
   "source": [
    "### FGSM Attack\n",
    "\n",
    "We now repeat the same plot for the adversarial images created with the FGSM method"
   ]
  },
  {
   "cell_type": "code",
   "execution_count": null,
   "id": "d61c2dbe",
   "metadata": {},
   "outputs": [],
   "source": [
    "cm_fgsm = confusion_matrix(valid_Y.argmax(axis=1), pred_fgsm.argmax(axis=1))\n",
    "fig, axes = plt.subplots()\n",
    "disp = ConfusionMatrixDisplay(confusion_matrix=cm_fgsm)\n",
    "disp.plot(ax=axes, cmap = 'cool', include_values=False)\n",
    "axes.axis('off')"
   ]
  },
  {
   "cell_type": "code",
   "execution_count": null,
   "id": "805551f4",
   "metadata": {},
   "outputs": [],
   "source": [
    "df_fgsm = pd.DataFrame({'Valid_data':valid_Y.argmax(axis=1), 'Predictions':pred_fgsm.argmax(axis=1)})\n",
    "fig, axes = plt.subplots(1, 2)\n",
    "sns.countplot(x='Valid_data',data=df_fgsm, ax=axes[0])\n",
    "axes[0].set_title('True labels')\n",
    "axes[0].axis('off')\n",
    "\n",
    "sns.countplot(x='Predictions',data=df_fgsm, ax=axes[1])\n",
    "axes[1].set_title('Predicted labels')\n",
    "axes[1].axis('off')\n",
    "\n",
    "plt.show()"
   ]
  },
  {
   "cell_type": "code",
   "execution_count": null,
   "id": "1399fd43",
   "metadata": {},
   "outputs": [],
   "source": [
    "diff_fgsm = valid_X - valid_X_fgsm\n",
    "distortions = [tf.norm(diff_fgsm[i,:],ord=np.inf).numpy() for i in range(diff_fgsm.shape[0])]\n",
    "df = pd.DataFrame({'distortions':distortions})\n",
    "sns.countplot(x='distortions', data=df)\n",
    "plt.show()"
   ]
  },
  {
   "cell_type": "markdown",
   "id": "e4c9084f",
   "metadata": {},
   "source": [
    "### PGD Attack\n",
    "\n",
    "Same, but with PGD adversarial images. We created only 50 adversarial examples, so we limit the plot to only those examples "
   ]
  },
  {
   "cell_type": "code",
   "execution_count": null,
   "id": "2aa61c93",
   "metadata": {},
   "outputs": [],
   "source": [
    "num_samples = len(pred_pgd)"
   ]
  },
  {
   "cell_type": "code",
   "execution_count": null,
   "id": "1c90f81a",
   "metadata": {},
   "outputs": [],
   "source": [
    "cm_pgd = confusion_matrix(valid_Y[:num_samples].argmax(axis=1), pred_pgd.argmax(axis=1))\n",
    "fig, axes = plt.subplots()\n",
    "disp = ConfusionMatrixDisplay(confusion_matrix=cm_pgd)\n",
    "disp.plot(ax=axes, cmap = 'cool', include_values=False)\n",
    "axes.axis('off')"
   ]
  },
  {
   "cell_type": "code",
   "execution_count": null,
   "id": "7926c72d",
   "metadata": {},
   "outputs": [],
   "source": [
    "df_pgd = pd.DataFrame({'Valid_data':valid_Y[:num_samples].argmax(axis=1), 'Predictions':pred_pgd.argmax(axis=1)})\n",
    "fig, axes = plt.subplots(1, 2)\n",
    "sns.countplot(x='Valid_data',data=df_pgd, ax=axes[0])\n",
    "axes[0].set_title('True labels')\n",
    "axes[0].axis('off')\n",
    "\n",
    "sns.countplot(x='Predictions',data=df_pgd, ax=axes[1])\n",
    "axes[1].set_title('Predicted labels')\n",
    "axes[1].axis('off')\n",
    "\n",
    "plt.show()"
   ]
  },
  {
   "cell_type": "code",
   "execution_count": null,
   "id": "b6995677",
   "metadata": {},
   "outputs": [],
   "source": [
    "diff_pgd = valid_X[:num_samples] - valid_X_pgd\n",
    "distortions = [tf.norm(diff_fgsm[i,:],ord=np.inf).numpy() for i in range(diff_pgd.shape[0])]\n",
    "df = pd.DataFrame({'distortions':distortions})\n",
    "sns.countplot(x='distortions', data=df)\n",
    "plt.show()"
   ]
  },
  {
   "cell_type": "code",
   "execution_count": null,
   "id": "cecf1c71",
   "metadata": {},
   "outputs": [],
   "source": []
  }
 ],
 "metadata": {
  "kernelspec": {
   "display_name": "adv",
   "language": "python",
   "name": "adv"
  },
  "language_info": {
   "codemirror_mode": {
    "name": "ipython",
    "version": 3
   },
   "file_extension": ".py",
   "mimetype": "text/x-python",
   "name": "python",
   "nbconvert_exporter": "python",
   "pygments_lexer": "ipython3",
   "version": "3.9.7"
  },
  "toc": {
   "base_numbering": 1,
   "nav_menu": {},
   "number_sections": true,
   "sideBar": true,
   "skip_h1_title": false,
   "title_cell": "Table of Contents",
   "title_sidebar": "Contents",
   "toc_cell": false,
   "toc_position": {},
   "toc_section_display": true,
   "toc_window_display": false
  }
 },
 "nbformat": 4,
 "nbformat_minor": 5
}
