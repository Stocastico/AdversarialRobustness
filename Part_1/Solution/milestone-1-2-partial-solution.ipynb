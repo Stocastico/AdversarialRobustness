{
 "cells": [
  {
   "cell_type": "markdown",
   "id": "e879e3b7",
   "metadata": {},
   "source": [
    "# Training a Simple Traffic Sign Classifier \n",
    "\n",
    "__Objective__: Create a CNN (Convolutional Neural Network) model. Use this model to classify traffic signs.\n",
    "\n",
    "__Workflow__:\n",
    "1. Using `numpy` to load your dataset for training.\n",
    "    - use `numpy.load` method to load data and labels matrices \n",
    "2.  Create a CNN with these specifications:\n",
    "    - Input Dimensions of 134 x 128 x 3 \n",
    "    - Two Convolution Layers (Kernel Size 5x5). The first with 64 filters, the second with 32. Use `ReLU` as the activation layer.\n",
    "    - Max Pooling of size 5 x 5\n",
    "    - Add a Dense Layer comprising of 64 outputs\n",
    "    - Dropout Rate of 0.2\n",
    "    - Add the final Dropout Layer that indicates the class probabilities\n",
    "3.  Train this CNN on the `Traffic Sign` dataset your prepared in Step 2\n",
    "    - Train for at least 30 Epochs \n",
    "4.  Plot graphs showing how your training and validation loss and accuracy changed with respect to the Epochs completed. \n",
    "5.  Save your model, you will be using it in the second milestone.\n",
    "6.  Test your model on some random samples from the test dataset.\n",
    "\n",
    "__Deliverable__:\n",
    "\n",
    "The deliverable is a Jupyter Notebook documenting your workflow as you take the `Traffic Sign` dataset, view samples, convert it into the proper shape/format as required by your deep learning library. You are required to train the model using the specifications provided. You should save your model as you'll need it for further analysis in the second milestone."
   ]
  },
  {
   "cell_type": "code",
   "execution_count": null,
   "id": "e3b74b7c",
   "metadata": {},
   "outputs": [],
   "source": [
    "from keras.models import Sequential\n",
    "from keras.layers import Conv2D, MaxPooling2D\n",
    "from keras.layers import Dropout, Flatten, Dense\n",
    "\n",
    "from plot_keras_history import plot_history\n",
    "import matplotlib.pyplot as plt\n",
    "from tensorflow.keras.preprocessing.image import ImageDataGenerator\n",
    "from keras.callbacks import ModelCheckpoint\n",
    "from sklearn.model_selection import train_test_split\n",
    "from sklearn.metrics import classification_report,confusion_matrix,ConfusionMatrixDisplay\n",
    "from sklearn.metrics import plot_confusion_matrix\n",
    "\n",
    "import pandas as pd\n",
    "from glob import glob\n",
    "from tqdm import tqdm\n",
    "import cv2\n",
    "from keras.preprocessing.image import  img_to_array\n",
    "import os\n",
    "import numpy as np\n",
    "from tensorflow.keras.utils import to_categorical\n",
    "import matplotlib.patches as patches"
   ]
  },
  {
   "cell_type": "code",
   "execution_count": null,
   "id": "4261b6b0",
   "metadata": {},
   "outputs": [],
   "source": [
    "EPOCHS = 30\n",
    "BS = 100\n",
    "MODEL_NAME = 'cnn-traffic-sign.h5'"
   ]
  },
  {
   "cell_type": "code",
   "execution_count": null,
   "id": "66abef1c",
   "metadata": {},
   "outputs": [],
   "source": [
    "\"\"\"\n",
    "- Read the npz file which is created in the previous milestone.\n",
    "- Load data and labels matrices.\n",
    "\"\"\"\n",
    "np.load(...)\n",
    "data = ...\n",
    "labels = ...\n",
    "\n",
    "'''\n",
    "Now you read all images\n",
    "- Use `train_test_split` method to get `trainX, testX, trainY, testY` with 20% test size\n",
    "'''\n",
    "(trainX, testX, trainY, testY) = train_test_split(...)"
   ]
  },
  {
   "cell_type": "code",
   "execution_count": null,
   "id": "9291e0e8",
   "metadata": {},
   "outputs": [],
   "source": [
    "def get_model(input_shape, num_of_class):\n",
    "    model = Sequential()\n",
    "    model.add(Conv2D(32, (5, 5),activation='relu', input_shape=input_shape))\n",
    "    '''\n",
    "    - Add remaining layers\n",
    "    - Compile the model with accuracy metrics\n",
    "    '''\n",
    "    model.compile(...)\n",
    "    \n",
    "    return model"
   ]
  },
  {
   "cell_type": "code",
   "execution_count": null,
   "id": "d2e5f177",
   "metadata": {},
   "outputs": [],
   "source": [
    "model = get_model(data[0,:].shape, labels.shape[1])\n",
    "'''\n",
    "- create trainAug from ImageDataGenerator method with rotation range is 15 and the fill mode is nearest.\n",
    "- Create a ModelCheckpoint with verbose is on, monitor is accuracy and save only best model\n",
    "'''\n",
    "\n",
    "'''\n",
    "- Train the model with trainAug.flow with BS batch size\n",
    "- Use testX and testY as the validation data\n",
    "- The number of itertaion must be 30.\n",
    "'''\n",
    "history = model.fit(...)"
   ]
  },
  {
   "cell_type": "code",
   "execution_count": null,
   "id": "e7c05e56",
   "metadata": {},
   "outputs": [],
   "source": [
    "'''\n",
    "- Plot the training history of loss and accuracy using `plot_history` method\n",
    "'''\n",
    "\n",
    "plt.show()"
   ]
  },
  {
   "cell_type": "code",
   "execution_count": null,
   "id": "46c0b66b",
   "metadata": {},
   "outputs": [],
   "source": [
    "'''\n",
    "- Get predictions from testX \n",
    "- Create a confusion matrix using `confusion_matrix` method\n",
    "- Plot the confusion matrix using `ConfusionMatrixDisplay` method\n",
    "'''\n",
    "\n",
    "plt.show()"
   ]
  },
  {
   "cell_type": "code",
   "execution_count": null,
   "id": "36f01883",
   "metadata": {},
   "outputs": [],
   "source": [
    "'''\n",
    "- Get classification report details using `classification_report`\n",
    "- Print the report\n",
    "'''\n",
    "\n",
    "print(...)"
   ]
  },
  {
   "cell_type": "code",
   "execution_count": null,
   "id": "9e26e5d0",
   "metadata": {},
   "outputs": [],
   "source": []
  }
 ],
 "metadata": {
  "kernelspec": {
   "display_name": "Python 3",
   "language": "python",
   "name": "python3"
  },
  "language_info": {
   "codemirror_mode": {
    "name": "ipython",
    "version": 3
   },
   "file_extension": ".py",
   "mimetype": "text/x-python",
   "name": "python",
   "nbconvert_exporter": "python",
   "pygments_lexer": "ipython3",
   "version": "3.9.7"
  },
  "toc": {
   "base_numbering": 1,
   "nav_menu": {},
   "number_sections": true,
   "sideBar": true,
   "skip_h1_title": false,
   "title_cell": "Table of Contents",
   "title_sidebar": "Contents",
   "toc_cell": false,
   "toc_position": {},
   "toc_section_display": true,
   "toc_window_display": false
  }
 },
 "nbformat": 4,
 "nbformat_minor": 5
}
